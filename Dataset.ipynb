{
 "cells": [
  {
   "cell_type": "markdown",
   "metadata": {},
   "source": [
    "# Methodology of Filtering\n",
    "## Configuration\n",
    "\n",
    "### title.basics.tsv.gz\n",
    "\n",
    "- tconst (string) - alphanumeric unique identifier of the title\n",
    "- titleType (string) – the type/format of the title (e.g. movie, short, tvseries, tvepisode, video, etc)\n",
    "- primaryTitle (string) – the more popular title / the title used by the filmmakers on promotional materials at the point of release\n",
    "- originalTitle (string) - original title, in the original language\n",
    "- isAdult (boolean) - 0: non-adult title; 1: adult title\n",
    "- startYear (YYYY) – represents the release year of a title. In the case of TV Series, it is the series start year\n",
    "- endYear (YYYY) – TV Series end year. ‘\\N’ for all other title types\n",
    "- runtimeMinutes – primary runtime of the title, in minutes\n",
    "- genres (string array) – includes up to three genres associated with the title\n",
    "\n",
    "### title.principals.tsv.gz\n",
    "\n",
    "- tconst (string) - alphanumeric unique identifier of the title\n",
    "- ordering (integer) – a number to uniquely identify rows for a given titleId\n",
    "- nconst (string) - alphanumeric unique identifier of the name/person\n",
    "- category (string) - the category of job that person was in\n",
    "- job (string) - the specific job title if applicable, else '\\N'\n",
    "- characters (string) - the name of the character played if applicable, else '\\N'\n",
    "\n",
    "### dataset.csv (Output)\n",
    "These are the data fields of interest, we store these in a csv file called dataset.csv.\n",
    "In this dataset we are left with the following fields:\n",
    "\n",
    "- tconst\n",
    "- nconst\n",
    "- category\n",
    "- startYear\n",
    "\n",
    "We will be filtering data based on a few criteria.\n",
    "We did not do this because of a lack of ambition but for practical reasons. Since order to analyse the whole dataset.\n",
    "We would either need a cloud based solution or apply GPU accelerated processing. Both of these solutions demand time we do not have.\n",
    "Therefore we are scoping analysis based on the following criteria:\n",
    "\n",
    "- 1970<=startYear<1990\n",
    "- titleType=='movie'\n",
    "- averageRating>=7.0\n",
    "\n",
    "## Importing IMDb Files: principals, basics and ratings"
   ]
  },
  {
   "cell_type": "code",
   "execution_count": 1,
   "metadata": {
    "ExecuteTime": {
     "end_time": "2023-06-26T10:19:03.557224800Z",
     "start_time": "2023-06-26T10:19:02.329230100Z"
    }
   },
   "outputs": [],
   "source": [
    "import pandas as pd"
   ]
  },
  {
   "cell_type": "code",
   "execution_count": 2,
   "metadata": {
    "ExecuteTime": {
     "end_time": "2023-06-26T10:19:03.563226800Z",
     "start_time": "2023-06-26T10:19:03.558224200Z"
    }
   },
   "outputs": [],
   "source": [
    "# principals and basics path\n",
    "principals_path = \"data/rawdata/principals.tsv\"\n",
    "basics_path = \"data/rawdata/basics.tsv\"\n",
    "ratings_path = \"data/rawdata/ratings.tsv\""
   ]
  },
  {
   "cell_type": "code",
   "execution_count": 3,
   "metadata": {
    "ExecuteTime": {
     "end_time": "2023-06-26T10:19:32.818976800Z",
     "start_time": "2023-06-26T10:19:03.558224200Z"
    }
   },
   "outputs": [],
   "source": [
    "# basics to dataframe only retrieving columns: tconst, startYear and titleType\n",
    "basics = pd.read_csv(basics_path, sep='\\t', low_memory=False)\\\n",
    "    .filter(items=[\"tconst\", \"startYear\", \"titleType\"])\n",
    "# remove \\\\N values in start year\n",
    "basics =  basics[(basics['startYear'] != \"\\\\N\")]\n",
    "# convert startYear to datatype int\n",
    "basics = basics.astype(dtype={\"tconst\": str,\"startYear\":int})"
   ]
  },
  {
   "cell_type": "code",
   "execution_count": 4,
   "metadata": {
    "ExecuteTime": {
     "end_time": "2023-06-26T10:21:15.196836Z",
     "start_time": "2023-06-26T10:19:32.821977800Z"
    }
   },
   "outputs": [],
   "source": [
    "# principals to dataframe only keeping columns: tconst, nconst and category\n",
    "principals = pd.read_csv(principals_path, sep='\\t', low_memory=False)\\\n",
    "    .filter(items=[\"tconst\", \"nconst\", \"category\"])\n",
    "# convert tconst, nconst, and category to datatype string\n",
    "principals = principals.astype(dtype={'tconst':str, 'nconst': str, 'category': str})"
   ]
  },
  {
   "cell_type": "code",
   "execution_count": 5,
   "metadata": {
    "ExecuteTime": {
     "end_time": "2023-06-26T10:21:16.240837100Z",
     "start_time": "2023-06-26T10:21:15.206846600Z"
    }
   },
   "outputs": [],
   "source": [
    "# ratings to dataframe only keeping columns: tconst and averageRating\n",
    "ratings = pd.read_csv(ratings_path, sep='\\t', low_memory=False)\\\n",
    "    .filter(items=[\"tconst\", 'averageRating'])\n",
    "# convert tconst, nconst, and category to datatype string\n",
    "ratings = ratings.astype(dtype={'tconst':str, 'averageRating': float})"
   ]
  },
  {
   "cell_type": "markdown",
   "metadata": {},
   "source": [
    "## Filtering on Criteria\n",
    "(1970<=startYear<1990, titleType=='movie' and averageRating>=7.0)"
   ]
  },
  {
   "cell_type": "code",
   "execution_count": 6,
   "metadata": {
    "ExecuteTime": {
     "end_time": "2023-06-26T10:21:18.174592200Z",
     "start_time": "2023-06-26T10:21:16.240837100Z"
    }
   },
   "outputs": [],
   "source": [
    "# filtering basics and ratings where 1970<=startYear<1990, titleType=='movie' and averageRating>=7.0\n",
    "basics = basics[(basics['startYear'] >= 1970) & (basics['startYear'] < 1990) & (basics['titleType'] == 'movie')]\\\n",
    "    .filter(items=[\"tconst\", \"startYear\", \"titleType\"])\n",
    "ratings = ratings[(ratings['averageRating'] >= 7.0)]"
   ]
  },
  {
   "cell_type": "code",
   "execution_count": 7,
   "metadata": {
    "ExecuteTime": {
     "end_time": "2023-06-26T10:21:18.302211400Z",
     "start_time": "2023-06-26T10:21:18.175593300Z"
    }
   },
   "outputs": [
    {
     "data": {
      "text/plain": "            tconst  startYear titleType\n30901    tt0031458       1970     movie\n35967    tt0036606       1983     movie\n38011    tt0038687       1980     movie\n38759    tt0039442       1973     movie\n44159    tt0044952       1977     movie\n...            ...        ...       ...\n9884089  tt9913320       1981     movie\n9884314  tt9913814       1981     movie\n9884324  tt9913834       1981     movie\n9884345  tt9913878       1981     movie\n9885130  tt9915592       1974     movie\n\n[83309 rows x 3 columns]",
      "text/html": "<div>\n<style scoped>\n    .dataframe tbody tr th:only-of-type {\n        vertical-align: middle;\n    }\n\n    .dataframe tbody tr th {\n        vertical-align: top;\n    }\n\n    .dataframe thead th {\n        text-align: right;\n    }\n</style>\n<table border=\"1\" class=\"dataframe\">\n  <thead>\n    <tr style=\"text-align: right;\">\n      <th></th>\n      <th>tconst</th>\n      <th>startYear</th>\n      <th>titleType</th>\n    </tr>\n  </thead>\n  <tbody>\n    <tr>\n      <th>30901</th>\n      <td>tt0031458</td>\n      <td>1970</td>\n      <td>movie</td>\n    </tr>\n    <tr>\n      <th>35967</th>\n      <td>tt0036606</td>\n      <td>1983</td>\n      <td>movie</td>\n    </tr>\n    <tr>\n      <th>38011</th>\n      <td>tt0038687</td>\n      <td>1980</td>\n      <td>movie</td>\n    </tr>\n    <tr>\n      <th>38759</th>\n      <td>tt0039442</td>\n      <td>1973</td>\n      <td>movie</td>\n    </tr>\n    <tr>\n      <th>44159</th>\n      <td>tt0044952</td>\n      <td>1977</td>\n      <td>movie</td>\n    </tr>\n    <tr>\n      <th>...</th>\n      <td>...</td>\n      <td>...</td>\n      <td>...</td>\n    </tr>\n    <tr>\n      <th>9884089</th>\n      <td>tt9913320</td>\n      <td>1981</td>\n      <td>movie</td>\n    </tr>\n    <tr>\n      <th>9884314</th>\n      <td>tt9913814</td>\n      <td>1981</td>\n      <td>movie</td>\n    </tr>\n    <tr>\n      <th>9884324</th>\n      <td>tt9913834</td>\n      <td>1981</td>\n      <td>movie</td>\n    </tr>\n    <tr>\n      <th>9884345</th>\n      <td>tt9913878</td>\n      <td>1981</td>\n      <td>movie</td>\n    </tr>\n    <tr>\n      <th>9885130</th>\n      <td>tt9915592</td>\n      <td>1974</td>\n      <td>movie</td>\n    </tr>\n  </tbody>\n</table>\n<p>83309 rows × 3 columns</p>\n</div>"
     },
     "execution_count": 7,
     "metadata": {},
     "output_type": "execute_result"
    }
   ],
   "source": [
    "# resulting basics dataset\n",
    "basics"
   ]
  },
  {
   "cell_type": "code",
   "execution_count": 8,
   "metadata": {
    "ExecuteTime": {
     "end_time": "2023-06-26T10:21:18.397300400Z",
     "start_time": "2023-06-26T10:21:18.302211400Z"
    }
   },
   "outputs": [
    {
     "data": {
      "text/plain": "             tconst     nconst         category\n0         tt0000001  nm1588970             self\n1         tt0000001  nm0005690         director\n2         tt0000001  nm0374658  cinematographer\n3         tt0000002  nm0721526         director\n4         tt0000002  nm1335271         composer\n...             ...        ...              ...\n56267418  tt9916880  nm0996406         director\n56267419  tt9916880  nm0584014         director\n56267420  tt9916880  nm1482639           writer\n56267421  tt9916880  nm2586970           writer\n56267422  tt9916880  nm1594058         producer\n\n[56267423 rows x 3 columns]",
      "text/html": "<div>\n<style scoped>\n    .dataframe tbody tr th:only-of-type {\n        vertical-align: middle;\n    }\n\n    .dataframe tbody tr th {\n        vertical-align: top;\n    }\n\n    .dataframe thead th {\n        text-align: right;\n    }\n</style>\n<table border=\"1\" class=\"dataframe\">\n  <thead>\n    <tr style=\"text-align: right;\">\n      <th></th>\n      <th>tconst</th>\n      <th>nconst</th>\n      <th>category</th>\n    </tr>\n  </thead>\n  <tbody>\n    <tr>\n      <th>0</th>\n      <td>tt0000001</td>\n      <td>nm1588970</td>\n      <td>self</td>\n    </tr>\n    <tr>\n      <th>1</th>\n      <td>tt0000001</td>\n      <td>nm0005690</td>\n      <td>director</td>\n    </tr>\n    <tr>\n      <th>2</th>\n      <td>tt0000001</td>\n      <td>nm0374658</td>\n      <td>cinematographer</td>\n    </tr>\n    <tr>\n      <th>3</th>\n      <td>tt0000002</td>\n      <td>nm0721526</td>\n      <td>director</td>\n    </tr>\n    <tr>\n      <th>4</th>\n      <td>tt0000002</td>\n      <td>nm1335271</td>\n      <td>composer</td>\n    </tr>\n    <tr>\n      <th>...</th>\n      <td>...</td>\n      <td>...</td>\n      <td>...</td>\n    </tr>\n    <tr>\n      <th>56267418</th>\n      <td>tt9916880</td>\n      <td>nm0996406</td>\n      <td>director</td>\n    </tr>\n    <tr>\n      <th>56267419</th>\n      <td>tt9916880</td>\n      <td>nm0584014</td>\n      <td>director</td>\n    </tr>\n    <tr>\n      <th>56267420</th>\n      <td>tt9916880</td>\n      <td>nm1482639</td>\n      <td>writer</td>\n    </tr>\n    <tr>\n      <th>56267421</th>\n      <td>tt9916880</td>\n      <td>nm2586970</td>\n      <td>writer</td>\n    </tr>\n    <tr>\n      <th>56267422</th>\n      <td>tt9916880</td>\n      <td>nm1594058</td>\n      <td>producer</td>\n    </tr>\n  </tbody>\n</table>\n<p>56267423 rows × 3 columns</p>\n</div>"
     },
     "execution_count": 8,
     "metadata": {},
     "output_type": "execute_result"
    }
   ],
   "source": [
    "# resulting principals dataset\n",
    "principals"
   ]
  },
  {
   "cell_type": "code",
   "execution_count": 9,
   "metadata": {
    "ExecuteTime": {
     "end_time": "2023-06-26T10:21:18.595300700Z",
     "start_time": "2023-06-26T10:21:18.335303Z"
    }
   },
   "outputs": [
    {
     "data": {
      "text/plain": "            tconst  averageRating\n11       tt0000012            7.4\n13       tt0000014            7.1\n58       tt0000060            7.4\n194      tt0000211            7.4\n247      tt0000310            7.3\n...            ...            ...\n1316989  tt9916730            8.3\n1316990  tt9916766            7.0\n1316991  tt9916778            7.2\n1316992  tt9916840            7.5\n1316993  tt9916880            7.0\n\n[740341 rows x 2 columns]",
      "text/html": "<div>\n<style scoped>\n    .dataframe tbody tr th:only-of-type {\n        vertical-align: middle;\n    }\n\n    .dataframe tbody tr th {\n        vertical-align: top;\n    }\n\n    .dataframe thead th {\n        text-align: right;\n    }\n</style>\n<table border=\"1\" class=\"dataframe\">\n  <thead>\n    <tr style=\"text-align: right;\">\n      <th></th>\n      <th>tconst</th>\n      <th>averageRating</th>\n    </tr>\n  </thead>\n  <tbody>\n    <tr>\n      <th>11</th>\n      <td>tt0000012</td>\n      <td>7.4</td>\n    </tr>\n    <tr>\n      <th>13</th>\n      <td>tt0000014</td>\n      <td>7.1</td>\n    </tr>\n    <tr>\n      <th>58</th>\n      <td>tt0000060</td>\n      <td>7.4</td>\n    </tr>\n    <tr>\n      <th>194</th>\n      <td>tt0000211</td>\n      <td>7.4</td>\n    </tr>\n    <tr>\n      <th>247</th>\n      <td>tt0000310</td>\n      <td>7.3</td>\n    </tr>\n    <tr>\n      <th>...</th>\n      <td>...</td>\n      <td>...</td>\n    </tr>\n    <tr>\n      <th>1316989</th>\n      <td>tt9916730</td>\n      <td>8.3</td>\n    </tr>\n    <tr>\n      <th>1316990</th>\n      <td>tt9916766</td>\n      <td>7.0</td>\n    </tr>\n    <tr>\n      <th>1316991</th>\n      <td>tt9916778</td>\n      <td>7.2</td>\n    </tr>\n    <tr>\n      <th>1316992</th>\n      <td>tt9916840</td>\n      <td>7.5</td>\n    </tr>\n    <tr>\n      <th>1316993</th>\n      <td>tt9916880</td>\n      <td>7.0</td>\n    </tr>\n  </tbody>\n</table>\n<p>740341 rows × 2 columns</p>\n</div>"
     },
     "execution_count": 9,
     "metadata": {},
     "output_type": "execute_result"
    }
   ],
   "source": [
    "# resulting ratings dataset\n",
    "ratings"
   ]
  },
  {
   "cell_type": "markdown",
   "metadata": {},
   "source": [
    "## Merging Files on tconst"
   ]
  },
  {
   "cell_type": "code",
   "execution_count": 10,
   "metadata": {
    "ExecuteTime": {
     "end_time": "2023-06-26T10:21:33.936745800Z",
     "start_time": "2023-06-26T10:21:18.371301400Z"
    }
   },
   "outputs": [],
   "source": [
    "# merge principals, basics and ratings\n",
    "dataset = pd.merge(principals, basics, on=\"tconst\", how=\"inner\")\n",
    "dataset = pd.merge(dataset, ratings, on=\"tconst\", how=\"inner\")\n",
    "dataset = dataset.filter(items=[\"tconst\", \"nconst\", \"category\",\"startYear\"])"
   ]
  },
  {
   "cell_type": "code",
   "execution_count": 11,
   "outputs": [
    {
     "data": {
      "text/plain": "          tconst     nconst  category  startYear\n0      tt0038687  nm0404158     actor       1980\n1      tt0038687  nm3455274      self       1980\n2      tt0038687  nm0001379  director       1980\n3      tt0038687  nm0442105    writer       1980\n4      tt0044952  nm0097888     actor       1977\n...          ...        ...       ...        ...\n95466  tt9900354  nm0412915  director       1982\n95467  tt9900354  nm0756534   actress       1982\n95468  tt9900354  nm0782938     actor       1982\n95469  tt9900354  nm2509198   actress       1982\n95470  tt9900354  nm0997634   actress       1982\n\n[95471 rows x 4 columns]",
      "text/html": "<div>\n<style scoped>\n    .dataframe tbody tr th:only-of-type {\n        vertical-align: middle;\n    }\n\n    .dataframe tbody tr th {\n        vertical-align: top;\n    }\n\n    .dataframe thead th {\n        text-align: right;\n    }\n</style>\n<table border=\"1\" class=\"dataframe\">\n  <thead>\n    <tr style=\"text-align: right;\">\n      <th></th>\n      <th>tconst</th>\n      <th>nconst</th>\n      <th>category</th>\n      <th>startYear</th>\n    </tr>\n  </thead>\n  <tbody>\n    <tr>\n      <th>0</th>\n      <td>tt0038687</td>\n      <td>nm0404158</td>\n      <td>actor</td>\n      <td>1980</td>\n    </tr>\n    <tr>\n      <th>1</th>\n      <td>tt0038687</td>\n      <td>nm3455274</td>\n      <td>self</td>\n      <td>1980</td>\n    </tr>\n    <tr>\n      <th>2</th>\n      <td>tt0038687</td>\n      <td>nm0001379</td>\n      <td>director</td>\n      <td>1980</td>\n    </tr>\n    <tr>\n      <th>3</th>\n      <td>tt0038687</td>\n      <td>nm0442105</td>\n      <td>writer</td>\n      <td>1980</td>\n    </tr>\n    <tr>\n      <th>4</th>\n      <td>tt0044952</td>\n      <td>nm0097888</td>\n      <td>actor</td>\n      <td>1977</td>\n    </tr>\n    <tr>\n      <th>...</th>\n      <td>...</td>\n      <td>...</td>\n      <td>...</td>\n      <td>...</td>\n    </tr>\n    <tr>\n      <th>95466</th>\n      <td>tt9900354</td>\n      <td>nm0412915</td>\n      <td>director</td>\n      <td>1982</td>\n    </tr>\n    <tr>\n      <th>95467</th>\n      <td>tt9900354</td>\n      <td>nm0756534</td>\n      <td>actress</td>\n      <td>1982</td>\n    </tr>\n    <tr>\n      <th>95468</th>\n      <td>tt9900354</td>\n      <td>nm0782938</td>\n      <td>actor</td>\n      <td>1982</td>\n    </tr>\n    <tr>\n      <th>95469</th>\n      <td>tt9900354</td>\n      <td>nm2509198</td>\n      <td>actress</td>\n      <td>1982</td>\n    </tr>\n    <tr>\n      <th>95470</th>\n      <td>tt9900354</td>\n      <td>nm0997634</td>\n      <td>actress</td>\n      <td>1982</td>\n    </tr>\n  </tbody>\n</table>\n<p>95471 rows × 4 columns</p>\n</div>"
     },
     "execution_count": 11,
     "metadata": {},
     "output_type": "execute_result"
    }
   ],
   "source": [
    "# resulting dataset\n",
    "dataset"
   ],
   "metadata": {
    "collapsed": false,
    "ExecuteTime": {
     "end_time": "2023-06-26T10:21:33.953745200Z",
     "start_time": "2023-06-26T10:21:33.938752400Z"
    }
   }
  },
  {
   "cell_type": "code",
   "execution_count": 12,
   "outputs": [],
   "source": [
    "dataset.to_csv(\"Data/FilteredData/dataset.csv\")"
   ],
   "metadata": {
    "collapsed": false,
    "ExecuteTime": {
     "end_time": "2023-06-26T10:21:34.218771200Z",
     "start_time": "2023-06-26T10:21:33.958748300Z"
    }
   }
  }
 ],
 "metadata": {
  "kernelspec": {
   "display_name": "Python 3 (ipykernel)",
   "language": "python",
   "name": "python3"
  },
  "language_info": {
   "codemirror_mode": {
    "name": "ipython",
    "version": 3
   },
   "file_extension": ".py",
   "mimetype": "text/x-python",
   "name": "python",
   "nbconvert_exporter": "python",
   "pygments_lexer": "ipython3",
   "version": "3.10.8"
  }
 },
 "nbformat": 4,
 "nbformat_minor": 1
}
