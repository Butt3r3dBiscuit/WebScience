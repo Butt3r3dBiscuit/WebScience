{
 "cells": [
  {
   "cell_type": "markdown",
   "source": [
    "# Source and Pandas"
   ],
   "metadata": {
    "collapsed": false
   }
  },
  {
   "cell_type": "code",
   "execution_count": 9,
   "outputs": [],
   "source": [
    "import pandas as pd"
   ],
   "metadata": {
    "collapsed": false,
    "ExecuteTime": {
     "end_time": "2023-06-18T15:31:19.753034200Z",
     "start_time": "2023-06-18T15:31:19.708038500Z"
    }
   }
  },
  {
   "cell_type": "code",
   "execution_count": 10,
   "outputs": [],
   "source": [
    "# dataset path\n",
    "dataset_path = \"data/filteredData/dataset.csv\""
   ],
   "metadata": {
    "collapsed": false,
    "ExecuteTime": {
     "end_time": "2023-06-18T15:31:19.807034300Z",
     "start_time": "2023-06-18T15:31:19.726043700Z"
    }
   }
  },
  {
   "cell_type": "code",
   "execution_count": 11,
   "outputs": [],
   "source": [
    "# dataset initialization\n",
    "dataset = pd.read_csv(dataset_path, sep=',', low_memory=False)"
   ],
   "metadata": {
    "collapsed": false,
    "ExecuteTime": {
     "end_time": "2023-06-18T15:31:19.829036700Z",
     "start_time": "2023-06-18T15:31:19.737042100Z"
    }
   }
  },
  {
   "cell_type": "markdown",
   "source": [
    "# Categorical Link Data"
   ],
   "metadata": {
    "collapsed": false
   }
  },
  {
   "cell_type": "code",
   "execution_count": 12,
   "outputs": [],
   "source": [
    "# general decade graphs where tconst ---> nconst\n",
    "links_70s_tconst_nconst  = dataset[(dataset['startYear'] >= 1970) & (dataset['startYear'] < 1980)].filter(items=[\"tconst\", \"nconst\"])\n",
    "links_80s_tconst_nconst = dataset[(dataset['startYear'] >= 1980) & (dataset['startYear'] < 1990)].filter(items=[\"tconst\", \"nconst\"])"
   ],
   "metadata": {
    "collapsed": false,
    "ExecuteTime": {
     "end_time": "2023-06-18T15:31:19.889032700Z",
     "start_time": "2023-06-18T15:31:19.815037200Z"
    }
   }
  },
  {
   "cell_type": "code",
   "execution_count": 13,
   "outputs": [],
   "source": [
    "# a set of categories\n",
    "categories = {'cinematographer', 'archive_footage', 'self', 'composer', 'writer', 'actress', 'director', 'editor',\n",
    "              'producer', 'archive_sound', 'actor', 'production_designer'}\n",
    "\n",
    "# dataset where startYear in 70s grouped by category\n",
    "category_links_70s = []\n",
    "# dataset where startYear in 80s grouped by category\n",
    "category_links_80s = []\n",
    "\n",
    "# create and add dataframes\n",
    "for category in categories:\n",
    "    # data frame queries\n",
    "    link_70s = dataset[((dataset['startYear'] >= 1970) & (dataset['startYear'] < 1980)) & (dataset['category'] == category)].filter(items=[\"tconst\", \"nconst\"])\n",
    "    link_80s = dataset[((dataset['startYear'] >= 1980) & (dataset['startYear'] < 1990)) & (dataset['category'] == category)].filter(items=[\"tconst\", \"nconst\"])\n",
    "    category_links_70s.append(link_70s)\n",
    "    category_links_80s.append(link_80s)"
   ],
   "metadata": {
    "collapsed": false,
    "ExecuteTime": {
     "end_time": "2023-06-18T15:31:20.000034200Z",
     "start_time": "2023-06-18T15:31:19.850037100Z"
    }
   }
  },
  {
   "cell_type": "code",
   "execution_count": 14,
   "outputs": [],
   "source": [
    "# decade graphs where nconst ---> nconst, grouped by category\n",
    "\n",
    "# 70s\n",
    "categories_links_70s_nconst = []\n",
    "for links_tconst_nconst in category_links_70s:\n",
    "    links_nconst_nconst = links_tconst_nconst.merge(links_tconst_nconst, on='tconst', suffixes=('_source', '_target')).filter(items=['nconst_source', 'nconst_target'])\n",
    "    categories_links_nconst_nconst = categories_links_70s_nconst.append(links_nconst_nconst)\n",
    "\n",
    "# 80s\n",
    "categories_links_80s_nconst = []\n",
    "for links_tconst_nconst in category_links_80s:\n",
    "    links_nconst_nconst = links_tconst_nconst.merge(links_tconst_nconst, on='tconst', suffixes=('_source', '_target')).filter(items=['nconst_source', 'nconst_target'])\n",
    "    categories_links_nconst_nconst = categories_links_80s_nconst.append(links_nconst_nconst)"
   ],
   "metadata": {
    "collapsed": false,
    "ExecuteTime": {
     "end_time": "2023-06-18T15:31:20.093972400Z",
     "start_time": "2023-06-18T15:31:20.002037200Z"
    }
   }
  },
  {
   "cell_type": "code",
   "execution_count": 15,
   "outputs": [],
   "source": [
    "# create csv files for decade graphs where nconst ---> nconst, grouped by category\n",
    "for i in range(len(categories)):\n",
    "    #70s\n",
    "    path = \"data/EdgeData/1970s/Categorical/{}70s.csv\".format(categories[i])\n",
    "    categories_links_70s_nconst[i].rename(columns={\"nconst_source\":\"Source\", \"nconst_target\":\"Target\"}, inplace=True)\n",
    "    categories_links_70s_nconst[i].to_csv(path, index = False)\n",
    "    # 80s\n",
    "    path = \"data/EdgeData/1980s/Categorical/{}80s.csv\".format(categories[i])\n",
    "    categories_links_80s_nconst[i].rename(columns={\"nconst_source\":\"Source\", \"nconst_target\":\"Target\"}, inplace=True)\n",
    "    categories_links_80s_nconst[i].to_csv(path, index = False)"
   ],
   "metadata": {
    "collapsed": false,
    "ExecuteTime": {
     "end_time": "2023-06-18T15:31:20.381961800Z",
     "start_time": "2023-06-18T15:31:20.095963800Z"
    }
   }
  },
  {
   "cell_type": "markdown",
   "source": [
    "# General Link Data"
   ],
   "metadata": {
    "collapsed": false
   }
  },
  {
   "cell_type": "code",
   "execution_count": 16,
   "outputs": [],
   "source": [
    "# general decade graphs where tconst ---> nconst\n",
    "links_70s_tconst_nconst  = dataset[(dataset['startYear'] >= 1970) & (dataset['startYear'] < 1980)].filter(items=[\"tconst\", \"nconst\"])\n",
    "links_80s_tconst_nconst = dataset[(dataset['startYear'] >= 1980) & (dataset['startYear'] < 1990)].filter(items=[\"tconst\", \"nconst\"])"
   ],
   "metadata": {
    "collapsed": false,
    "ExecuteTime": {
     "end_time": "2023-06-18T15:31:20.397963500Z",
     "start_time": "2023-06-18T15:31:20.383962900Z"
    }
   }
  },
  {
   "cell_type": "code",
   "execution_count": 17,
   "outputs": [],
   "source": [
    "# general decade graphs where nconst ---> nconst\n",
    "links_70s_nconst_nconst = links_70s_tconst_nconst.merge(links_70s_tconst_nconst, on='tconst', suffixes=('_source', '_target')).filter(items=['nconst_source', 'nconst_target'])\n",
    "links_80s_nconst_nconst = links_80s_tconst_nconst.merge(links_80s_tconst_nconst, on='tconst', suffixes=('_source', '_target')).filter(items=['nconst_source', 'nconst_target'])"
   ],
   "metadata": {
    "collapsed": false,
    "ExecuteTime": {
     "end_time": "2023-06-18T15:31:20.492960800Z",
     "start_time": "2023-06-18T15:31:20.399964Z"
    }
   }
  },
  {
   "cell_type": "code",
   "execution_count": 18,
   "outputs": [],
   "source": [
    "# ensure that no self collaborations\n",
    "links_70s_nconst_nconst = links_70s_nconst_nconst[(links_70s_nconst_nconst['nconst_source'] != links_70s_nconst_nconst['nconst_target'])]\n",
    "links_80s_nconst_nconst = links_80s_nconst_nconst[(links_80s_nconst_nconst['nconst_source'] != links_80s_nconst_nconst['nconst_target'])]"
   ],
   "metadata": {
    "collapsed": false,
    "ExecuteTime": {
     "end_time": "2023-06-18T15:31:20.588963300Z",
     "start_time": "2023-06-18T15:31:20.495964Z"
    }
   }
  },
  {
   "cell_type": "code",
   "execution_count": 19,
   "outputs": [],
   "source": [
    "# create csv files for decade graphs where nconst ---> nconst\n",
    "path70s = \"data/EdgeData/1970s/General/70s.csv\"\n",
    "path80s = \"data/EdgeData/1980s/General/80s.csv\"\n",
    "\n",
    "links_70s_nconst_nconst.rename(columns={\"nconst_source\":\"Source\", \"nconst_target\":\"Target\"}, inplace=True)\n",
    "links_80s_nconst_nconst.rename(columns={\"nconst_source\":\"Source\", \"nconst_target\":\"Target\"}, inplace=True)\n",
    "\n",
    "links_70s_nconst_nconst.to_csv(path70s, index = False)\n",
    "links_80s_nconst_nconst.to_csv(path80s, index = False)"
   ],
   "metadata": {
    "collapsed": false,
    "ExecuteTime": {
     "end_time": "2023-06-18T15:31:21.531019400Z",
     "start_time": "2023-06-18T15:31:20.589971700Z"
    }
   }
  }
 ],
 "metadata": {
  "kernelspec": {
   "display_name": "Python 3",
   "language": "python",
   "name": "python3"
  },
  "language_info": {
   "codemirror_mode": {
    "name": "ipython",
    "version": 2
   },
   "file_extension": ".py",
   "mimetype": "text/x-python",
   "name": "python",
   "nbconvert_exporter": "python",
   "pygments_lexer": "ipython2",
   "version": "2.7.6"
  }
 },
 "nbformat": 4,
 "nbformat_minor": 0
}
