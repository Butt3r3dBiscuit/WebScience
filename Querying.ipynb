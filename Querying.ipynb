{
 "cells": [
  {
   "cell_type": "code",
   "execution_count": 2,
   "metadata": {
    "collapsed": true,
    "ExecuteTime": {
     "end_time": "2023-06-21T12:53:13.752681100Z",
     "start_time": "2023-06-21T12:53:12.877680800Z"
    }
   },
   "outputs": [],
   "source": [
    "import pandas as pd"
   ]
  },
  {
   "cell_type": "code",
   "execution_count": 3,
   "outputs": [],
   "source": [
    "# Principals and basics path\n",
    "nameBasics_path = \"Data/RawData/basics_name.tsv\""
   ],
   "metadata": {
    "collapsed": false,
    "ExecuteTime": {
     "end_time": "2023-06-21T12:53:13.768677Z",
     "start_time": "2023-06-21T12:53:13.753672800Z"
    }
   }
  },
  {
   "cell_type": "code",
   "execution_count": 4,
   "outputs": [],
   "source": [
    "# Principals initialisation\n",
    "nameBasics = pd.read_csv(nameBasics_path, sep='\\t', low_memory=False)"
   ],
   "metadata": {
    "collapsed": false,
    "ExecuteTime": {
     "end_time": "2023-06-21T12:53:37.886714800Z",
     "start_time": "2023-06-21T12:53:13.769673700Z"
    }
   }
  },
  {
   "cell_type": "code",
   "execution_count": 7,
   "outputs": [
    {
     "data": {
      "text/plain": "           nconst                primaryName birthYear deathYear   \n661383  nm0701403  Pyarelal Ramprasad Sharma      1940        \\N  \\\n\n                           primaryProfession   \n661383  composer,soundtrack,music_department  \\\n\n                                 knownForTitles  \n661383  tt0061974,tt0214841,tt1024943,tt0338013  ",
      "text/html": "<div>\n<style scoped>\n    .dataframe tbody tr th:only-of-type {\n        vertical-align: middle;\n    }\n\n    .dataframe tbody tr th {\n        vertical-align: top;\n    }\n\n    .dataframe thead th {\n        text-align: right;\n    }\n</style>\n<table border=\"1\" class=\"dataframe\">\n  <thead>\n    <tr style=\"text-align: right;\">\n      <th></th>\n      <th>nconst</th>\n      <th>primaryName</th>\n      <th>birthYear</th>\n      <th>deathYear</th>\n      <th>primaryProfession</th>\n      <th>knownForTitles</th>\n    </tr>\n  </thead>\n  <tbody>\n    <tr>\n      <th>661383</th>\n      <td>nm0701403</td>\n      <td>Pyarelal Ramprasad Sharma</td>\n      <td>1940</td>\n      <td>\\N</td>\n      <td>composer,soundtrack,music_department</td>\n      <td>tt0061974,tt0214841,tt1024943,tt0338013</td>\n    </tr>\n  </tbody>\n</table>\n</div>"
     },
     "execution_count": 7,
     "metadata": {},
     "output_type": "execute_result"
    }
   ],
   "source": [
    "nameBasics[nameBasics[\"nconst\"] == \"nm0701403\"]"
   ],
   "metadata": {
    "collapsed": false,
    "ExecuteTime": {
     "end_time": "2023-06-21T13:02:53.817698600Z",
     "start_time": "2023-06-21T13:02:53.003699400Z"
    }
   }
  },
  {
   "cell_type": "code",
   "execution_count": 5,
   "outputs": [],
   "source": [],
   "metadata": {
    "collapsed": false,
    "ExecuteTime": {
     "end_time": "2023-06-21T12:53:38.502819200Z",
     "start_time": "2023-06-21T12:53:38.487822600Z"
    }
   }
  }
 ],
 "metadata": {
  "kernelspec": {
   "display_name": "Python 3",
   "language": "python",
   "name": "python3"
  },
  "language_info": {
   "codemirror_mode": {
    "name": "ipython",
    "version": 2
   },
   "file_extension": ".py",
   "mimetype": "text/x-python",
   "name": "python",
   "nbconvert_exporter": "python",
   "pygments_lexer": "ipython2",
   "version": "2.7.6"
  }
 },
 "nbformat": 4,
 "nbformat_minor": 0
}
