{
 "cells": [
  {
   "cell_type": "markdown",
   "source": [
    "# Graph Creation"
   ],
   "metadata": {
    "collapsed": false
   }
  },
  {
   "cell_type": "code",
   "execution_count": 1,
   "outputs": [],
   "source": [
    "import networkx as nx\n",
    "import pandas as pd"
   ],
   "metadata": {
    "collapsed": false,
    "ExecuteTime": {
     "end_time": "2023-06-21T16:30:41.714432800Z",
     "start_time": "2023-06-21T16:30:40.474432500Z"
    }
   }
  },
  {
   "cell_type": "code",
   "execution_count": 2,
   "outputs": [],
   "source": [
    "# General paths\n",
    "\n",
    "# 70s\n",
    "general70s_path = \"Data/EdgeData/1970s/General/70s.csv\"\n",
    "\n",
    "# 80s\n",
    "general80s_path = \"Data/EdgeData/1980s/General/80s.csv\"\n",
    "\n",
    "# categorical paths\n",
    "\n",
    "# 70s\n",
    "categorical70s_path = \"Data/EdgeData/1970s/Categorical\"\n",
    "\n",
    "# 80s\n",
    "categorical80s_path = \"Data/EdgeData/1980s/Categorical\""
   ],
   "metadata": {
    "collapsed": false,
    "ExecuteTime": {
     "end_time": "2023-06-21T16:30:41.737432100Z",
     "start_time": "2023-06-21T16:30:41.715434900Z"
    }
   }
  },
  {
   "cell_type": "code",
   "execution_count": 3,
   "outputs": [],
   "source": [
    "# A set of categories\n",
    "categories = {'cinematographer', 'archive_footage', 'self', 'composer', 'writer', 'actress', 'director', 'editor',\n",
    "              'producer', 'archive_sound', 'actor', 'production_designer'}"
   ],
   "metadata": {
    "collapsed": false,
    "ExecuteTime": {
     "end_time": "2023-06-21T16:30:42.250434400Z",
     "start_time": "2023-06-21T16:30:42.016433100Z"
    }
   }
  },
  {
   "cell_type": "code",
   "execution_count": 4,
   "outputs": [],
   "source": [
    "# Nodes data initialisation\n",
    "nodedata70s = []\n",
    "nodedata80s = []"
   ],
   "metadata": {
    "collapsed": false,
    "ExecuteTime": {
     "end_time": "2023-06-21T16:30:43.155487700Z",
     "start_time": "2023-06-21T16:30:43.064488200Z"
    }
   }
  },
  {
   "cell_type": "code",
   "execution_count": 5,
   "outputs": [],
   "source": [
    "# add 70s nodes\n",
    "for category in categories:\n",
    "    category70s_path = categorical70s_path + \"/{}70s.csv\".format(category)\n",
    "\n",
    "    category70s = pd.read_csv(category70s_path, sep=',', low_memory=False)\n",
    "\n",
    "    nodes70s_set = set(category70s['Source'])\n",
    "    nodes70s_set = nodes70s_set.union(set(category70s['Target']))\n",
    "\n",
    "    nodedata70s.append(list(nodes70s_set))"
   ],
   "metadata": {
    "collapsed": false,
    "ExecuteTime": {
     "end_time": "2023-06-21T16:30:44.117009400Z",
     "start_time": "2023-06-21T16:30:43.876006700Z"
    }
   }
  },
  {
   "cell_type": "code",
   "execution_count": 6,
   "outputs": [],
   "source": [
    "# add 80s nodes\n",
    "for category in categories:\n",
    "    category80s_path = categorical80s_path + \"/{}80s.csv\".format(category)\n",
    "\n",
    "    category80s = pd.read_csv(category80s_path, sep=',', low_memory=False)\n",
    "\n",
    "    nodes80s_set = set(category80s['Source'])\n",
    "\n",
    "    nodes80s_set = nodes80s_set.union(set(category80s['Target']))\n",
    "\n",
    "    nodedata80s.append(list(nodes80s_set))"
   ],
   "metadata": {
    "collapsed": false,
    "ExecuteTime": {
     "end_time": "2023-06-21T16:30:45.051587700Z",
     "start_time": "2023-06-21T16:30:44.746009600Z"
    }
   }
  },
  {
   "cell_type": "code",
   "execution_count": 7,
   "outputs": [],
   "source": [
    "# Edge data initialisation\n",
    "edges70s = pd.read_csv(general70s_path, sep=',', low_memory=False)\n",
    "edges80s = pd.read_csv(general80s_path, sep=',', low_memory=False)"
   ],
   "metadata": {
    "collapsed": false,
    "ExecuteTime": {
     "end_time": "2023-06-21T16:30:46.454663800Z",
     "start_time": "2023-06-21T16:30:45.707625600Z"
    }
   }
  },
  {
   "cell_type": "code",
   "execution_count": 8,
   "outputs": [],
   "source": [
    "# Initialize graph\n",
    "G70s= nx.Graph()\n",
    "G80s= nx.Graph()"
   ],
   "metadata": {
    "collapsed": false,
    "ExecuteTime": {
     "end_time": "2023-06-21T16:30:46.491670300Z",
     "start_time": "2023-06-21T16:30:46.418666800Z"
    }
   }
  },
  {
   "cell_type": "code",
   "execution_count": 9,
   "outputs": [],
   "source": [
    "# Add 70s nodes\n",
    "for i in range(len(nodedata70s)):\n",
    "    for node in nodedata70s[i]:\n",
    "        G70s.add_node(node, category=list(categories)[i])"
   ],
   "metadata": {
    "collapsed": false,
    "ExecuteTime": {
     "end_time": "2023-06-21T16:30:47.532668500Z",
     "start_time": "2023-06-21T16:30:47.363666100Z"
    }
   }
  },
  {
   "cell_type": "code",
   "execution_count": 10,
   "outputs": [],
   "source": [
    "# Add 80s nodes\n",
    "for i in range(len(nodedata80s)):\n",
    "    for node in nodedata80s[i]:\n",
    "        G80s.add_node(node, category=list(categories)[i])"
   ],
   "metadata": {
    "collapsed": false,
    "ExecuteTime": {
     "end_time": "2023-06-21T16:30:48.961740500Z",
     "start_time": "2023-06-21T16:30:48.706180Z"
    }
   }
  },
  {
   "cell_type": "code",
   "execution_count": 11,
   "outputs": [],
   "source": [
    "# Add 70s edges\n",
    "G70s.add_edges_from(edges70s.values)"
   ],
   "metadata": {
    "collapsed": false,
    "ExecuteTime": {
     "end_time": "2023-06-21T16:30:53.188814200Z",
     "start_time": "2023-06-21T16:30:49.571780400Z"
    }
   }
  },
  {
   "cell_type": "code",
   "execution_count": 12,
   "outputs": [],
   "source": [
    "# Add 80s edges\n",
    "G80s.add_edges_from(edges80s.values)"
   ],
   "metadata": {
    "collapsed": false,
    "ExecuteTime": {
     "end_time": "2023-06-21T16:30:55.349815400Z",
     "start_time": "2023-06-21T16:30:53.180815100Z"
    }
   }
  },
  {
   "cell_type": "code",
   "execution_count": 13,
   "outputs": [],
   "source": [
    "# Graph is undirected\n",
    "G70s = nx.to_undirected(G70s)\n",
    "G80s = nx.to_undirected(G80s)"
   ],
   "metadata": {
    "collapsed": false,
    "ExecuteTime": {
     "end_time": "2023-06-21T16:30:55.364813600Z",
     "start_time": "2023-06-21T16:30:55.353814700Z"
    }
   }
  },
  {
   "cell_type": "markdown",
   "source": [
    "# Analysis\n",
    "## Eigenvector Centrality"
   ],
   "metadata": {
    "collapsed": false
   }
  },
  {
   "cell_type": "code",
   "execution_count": 85,
   "outputs": [],
   "source": [
    "# Calculate 70s eigenvector centrality\n",
    "centrality_scores = nx.eigenvector_centrality(G70s)\n",
    "\n",
    "# Add eigenvector centrality as an attribute to nodes\n",
    "nx.set_node_attributes(G70s, centrality_scores, 'eigenvector_centrality')"
   ],
   "metadata": {
    "collapsed": false,
    "ExecuteTime": {
     "end_time": "2023-06-21T23:22:33.231585200Z",
     "start_time": "2023-06-21T23:22:30.708635900Z"
    }
   }
  },
  {
   "cell_type": "code",
   "execution_count": 86,
   "outputs": [],
   "source": [
    "# Print the eigenvector centrality attribute for each node\n",
    "for node, data in G70s.nodes(data=True):\n",
    "    eigenvector_centrality = data['eigenvector_centrality']"
   ],
   "metadata": {
    "collapsed": false,
    "ExecuteTime": {
     "end_time": "2023-06-21T23:22:34.122648800Z",
     "start_time": "2023-06-21T23:22:34.083650800Z"
    }
   }
  },
  {
   "cell_type": "code",
   "execution_count": 87,
   "outputs": [],
   "source": [
    "# Calculate 80s eigenvector centrality\n",
    "centrality_scores = nx.eigenvector_centrality(G80s)\n",
    "\n",
    "# Add eigenvector centrality as an attribute to nodes\n",
    "nx.set_node_attributes(G80s, centrality_scores, 'eigenvector_centrality')"
   ],
   "metadata": {
    "collapsed": false,
    "ExecuteTime": {
     "end_time": "2023-06-21T23:22:39.280852300Z",
     "start_time": "2023-06-21T23:22:35.508730900Z"
    }
   }
  },
  {
   "cell_type": "code",
   "execution_count": 88,
   "outputs": [],
   "source": [
    "# Print the eigenvector centrality attribute for each node\n",
    "for node, data in G80s.nodes(data=True):\n",
    "    eigenvector_centrality = data['eigenvector_centrality']"
   ],
   "metadata": {
    "collapsed": false,
    "ExecuteTime": {
     "end_time": "2023-06-21T23:22:57.886679700Z",
     "start_time": "2023-06-21T23:22:57.829614100Z"
    }
   }
  },
  {
   "cell_type": "code",
   "execution_count": 89,
   "outputs": [
    {
     "name": "stdout",
     "output_type": "stream",
     "text": [
      "Node nm0473742, attributes: {'category': 'composer', 'eigenvector_centrality': 0.14117340737650352, 'betweenness_centrality': 0.002317191412883683, 'closeness_centrality': 0.002317191412883683, 'community': 3478}\n"
     ]
    }
   ],
   "source": [
    "# Get the top 70s node with the highest eigenvector centrality\n",
    "sorted_nodes = sorted(G70s.nodes(data=True), key=lambda x: x[1]['eigenvector_centrality'], reverse=True)\n",
    "for node, attributes in sorted_nodes[:1]:\n",
    "    print(f\"Node {node}, attributes: {attributes}\")"
   ],
   "metadata": {
    "collapsed": false,
    "ExecuteTime": {
     "end_time": "2023-06-21T23:23:03.274008400Z",
     "start_time": "2023-06-21T23:23:03.192972200Z"
    }
   }
  },
  {
   "cell_type": "code",
   "execution_count": 90,
   "outputs": [
    {
     "name": "stdout",
     "output_type": "stream",
     "text": [
      "Node nm0007123, attributes: {'category': 'actor', 'eigenvector_centrality': 0.19065903679970617, 'betweenness_centrality': 0.004268091861912812, 'community': 4833}\n"
     ]
    }
   ],
   "source": [
    "# Get the top 80s node with the highest eigenvector centrality\n",
    "sorted_nodes = sorted(G80s.nodes(data=True), key=lambda x: x[1]['eigenvector_centrality'], reverse=True)\n",
    "for node, attributes in sorted_nodes[:1]:\n",
    "    print(f\"Node {node}, attributes: {attributes}\")"
   ],
   "metadata": {
    "collapsed": false,
    "ExecuteTime": {
     "end_time": "2023-06-21T23:23:10.121186900Z",
     "start_time": "2023-06-21T23:23:10.038618300Z"
    }
   }
  },
  {
   "cell_type": "markdown",
   "source": [
    "# Betweeness Centrality"
   ],
   "metadata": {
    "collapsed": false
   }
  },
  {
   "cell_type": "code",
   "execution_count": 91,
   "outputs": [
    {
     "ename": "KeyboardInterrupt",
     "evalue": "",
     "output_type": "error",
     "traceback": [
      "\u001B[1;31m---------------------------------------------------------------------------\u001B[0m",
      "\u001B[1;31mKeyboardInterrupt\u001B[0m                         Traceback (most recent call last)",
      "Cell \u001B[1;32mIn[91], line 2\u001B[0m\n\u001B[0;32m      1\u001B[0m \u001B[38;5;66;03m# Calculate 70s betweenness centrality\u001B[39;00m\n\u001B[1;32m----> 2\u001B[0m betweenness \u001B[38;5;241m=\u001B[39m \u001B[43mnx\u001B[49m\u001B[38;5;241;43m.\u001B[39;49m\u001B[43mbetweenness_centrality\u001B[49m\u001B[43m(\u001B[49m\u001B[43mG70s\u001B[49m\u001B[43m)\u001B[49m\n\u001B[0;32m      4\u001B[0m \u001B[38;5;66;03m# Add betweenness centrality as an attribute to nodes\u001B[39;00m\n\u001B[0;32m      5\u001B[0m nx\u001B[38;5;241m.\u001B[39mset_node_attributes(G70s, betweenness, \u001B[38;5;124m'\u001B[39m\u001B[38;5;124mbetweenness_centrality\u001B[39m\u001B[38;5;124m'\u001B[39m)\n",
      "File \u001B[1;32m~\\PycharmProjects\\Webscience\\venv\\lib\\site-packages\\networkx\\classes\\backends.py:148\u001B[0m, in \u001B[0;36m_dispatch.<locals>.wrapper\u001B[1;34m(*args, **kwds)\u001B[0m\n\u001B[0;32m    144\u001B[0m         \u001B[38;5;28;01melse\u001B[39;00m:\n\u001B[0;32m    145\u001B[0m             \u001B[38;5;28;01mraise\u001B[39;00m NetworkXNotImplemented(\n\u001B[0;32m    146\u001B[0m                 \u001B[38;5;124mf\u001B[39m\u001B[38;5;124m\"\u001B[39m\u001B[38;5;124m'\u001B[39m\u001B[38;5;132;01m{\u001B[39;00mname\u001B[38;5;132;01m}\u001B[39;00m\u001B[38;5;124m'\u001B[39m\u001B[38;5;124m not implemented by \u001B[39m\u001B[38;5;132;01m{\u001B[39;00mplugin_name\u001B[38;5;132;01m}\u001B[39;00m\u001B[38;5;124m\"\u001B[39m\n\u001B[0;32m    147\u001B[0m             )\n\u001B[1;32m--> 148\u001B[0m \u001B[38;5;28;01mreturn\u001B[39;00m func(\u001B[38;5;241m*\u001B[39margs, \u001B[38;5;241m*\u001B[39m\u001B[38;5;241m*\u001B[39mkwds)\n",
      "File \u001B[1;32m<class 'networkx.utils.decorators.argmap'> compilation 12:4\u001B[0m, in \u001B[0;36margmap_betweenness_centrality_9\u001B[1;34m(G, k, normalized, weight, endpoints, seed)\u001B[0m\n\u001B[0;32m      2\u001B[0m \u001B[38;5;28;01mimport\u001B[39;00m \u001B[38;5;21;01mcollections\u001B[39;00m\n\u001B[0;32m      3\u001B[0m \u001B[38;5;28;01mimport\u001B[39;00m \u001B[38;5;21;01mgzip\u001B[39;00m\n\u001B[1;32m----> 4\u001B[0m \u001B[38;5;28;01mimport\u001B[39;00m \u001B[38;5;21;01minspect\u001B[39;00m\n\u001B[0;32m      5\u001B[0m \u001B[38;5;28;01mimport\u001B[39;00m \u001B[38;5;21;01mitertools\u001B[39;00m\n\u001B[0;32m      6\u001B[0m \u001B[38;5;28;01mimport\u001B[39;00m \u001B[38;5;21;01mre\u001B[39;00m\n",
      "File \u001B[1;32m~\\PycharmProjects\\Webscience\\venv\\lib\\site-packages\\networkx\\algorithms\\centrality\\betweenness.py:131\u001B[0m, in \u001B[0;36mbetweenness_centrality\u001B[1;34m(G, k, normalized, weight, endpoints, seed)\u001B[0m\n\u001B[0;32m    128\u001B[0m \u001B[38;5;28;01mfor\u001B[39;00m s \u001B[38;5;129;01min\u001B[39;00m nodes:\n\u001B[0;32m    129\u001B[0m     \u001B[38;5;66;03m# single source shortest paths\u001B[39;00m\n\u001B[0;32m    130\u001B[0m     \u001B[38;5;28;01mif\u001B[39;00m weight \u001B[38;5;129;01mis\u001B[39;00m \u001B[38;5;28;01mNone\u001B[39;00m:  \u001B[38;5;66;03m# use BFS\u001B[39;00m\n\u001B[1;32m--> 131\u001B[0m         S, P, sigma, _ \u001B[38;5;241m=\u001B[39m \u001B[43m_single_source_shortest_path_basic\u001B[49m\u001B[43m(\u001B[49m\u001B[43mG\u001B[49m\u001B[43m,\u001B[49m\u001B[43m \u001B[49m\u001B[43ms\u001B[49m\u001B[43m)\u001B[49m\n\u001B[0;32m    132\u001B[0m     \u001B[38;5;28;01melse\u001B[39;00m:  \u001B[38;5;66;03m# use Dijkstra's algorithm\u001B[39;00m\n\u001B[0;32m    133\u001B[0m         S, P, sigma, _ \u001B[38;5;241m=\u001B[39m _single_source_dijkstra_path_basic(G, s, weight)\n",
      "File \u001B[1;32m~\\PycharmProjects\\Webscience\\venv\\lib\\site-packages\\networkx\\algorithms\\centrality\\betweenness.py:262\u001B[0m, in \u001B[0;36m_single_source_shortest_path_basic\u001B[1;34m(G, s)\u001B[0m\n\u001B[0;32m    260\u001B[0m \u001B[38;5;28;01mwhile\u001B[39;00m Q:  \u001B[38;5;66;03m# use BFS to find shortest paths\u001B[39;00m\n\u001B[0;32m    261\u001B[0m     v \u001B[38;5;241m=\u001B[39m Q\u001B[38;5;241m.\u001B[39mpopleft()\n\u001B[1;32m--> 262\u001B[0m     \u001B[43mS\u001B[49m\u001B[38;5;241;43m.\u001B[39;49m\u001B[43mappend\u001B[49m\u001B[43m(\u001B[49m\u001B[43mv\u001B[49m\u001B[43m)\u001B[49m\n\u001B[0;32m    263\u001B[0m     Dv \u001B[38;5;241m=\u001B[39m D[v]\n\u001B[0;32m    264\u001B[0m     sigmav \u001B[38;5;241m=\u001B[39m sigma[v]\n",
      "\u001B[1;31mKeyboardInterrupt\u001B[0m: "
     ]
    }
   ],
   "source": [
    "# Calculate 70s betweenness centrality\n",
    "betweenness = nx.betweenness_centrality(G70s)\n",
    "\n",
    "# Add betweenness centrality as an attribute to nodes\n",
    "nx.set_node_attributes(G70s, betweenness, 'betweenness_centrality')"
   ],
   "metadata": {
    "collapsed": false,
    "ExecuteTime": {
     "end_time": "2023-06-21T23:23:36.855505100Z",
     "start_time": "2023-06-21T23:23:21.354756900Z"
    }
   }
  },
  {
   "cell_type": "code",
   "execution_count": 96,
   "outputs": [
    {
     "name": "stdout",
     "output_type": "stream",
     "text": [
      "Node nm0006762, attributes: {'category': 'actor', 'eigenvector_centrality': 0.006662391537414313, 'betweenness_centrality': 0.09259497671090378, 'closeness_centrality': 0.09259497671090378, 'community': 3478}\n"
     ]
    }
   ],
   "source": [
    "# Get the top 70s node with the highest betweenness centrality\n",
    "sorted_nodes = sorted(G70s.nodes(data=True), key=lambda x: x[1]['betweenness_centrality'], reverse=True)\n",
    "for node, attributes in sorted_nodes[:1]:\n",
    "    print(f\"Node {node}, attributes: {attributes}\")"
   ],
   "metadata": {
    "collapsed": false,
    "ExecuteTime": {
     "end_time": "2023-06-21T23:38:15.605042300Z",
     "start_time": "2023-06-21T23:38:15.564033100Z"
    }
   }
  },
  {
   "cell_type": "code",
   "execution_count": 93,
   "outputs": [
    {
     "ename": "KeyboardInterrupt",
     "evalue": "",
     "output_type": "error",
     "traceback": [
      "\u001B[1;31m---------------------------------------------------------------------------\u001B[0m",
      "\u001B[1;31mKeyboardInterrupt\u001B[0m                         Traceback (most recent call last)",
      "Cell \u001B[1;32mIn[93], line 2\u001B[0m\n\u001B[0;32m      1\u001B[0m \u001B[38;5;66;03m# Calculate 80s betweenness centrality\u001B[39;00m\n\u001B[1;32m----> 2\u001B[0m betweenness \u001B[38;5;241m=\u001B[39m \u001B[43mnx\u001B[49m\u001B[38;5;241;43m.\u001B[39;49m\u001B[43mbetweenness_centrality\u001B[49m\u001B[43m(\u001B[49m\u001B[43mG80s\u001B[49m\u001B[43m)\u001B[49m\n\u001B[0;32m      4\u001B[0m \u001B[38;5;66;03m# Add betweenness centrality as an attribute to nodes\u001B[39;00m\n\u001B[0;32m      5\u001B[0m nx\u001B[38;5;241m.\u001B[39mset_node_attributes(G80s, betweenness, \u001B[38;5;124m'\u001B[39m\u001B[38;5;124mbetweenness_centrality\u001B[39m\u001B[38;5;124m'\u001B[39m)\n",
      "File \u001B[1;32m~\\PycharmProjects\\Webscience\\venv\\lib\\site-packages\\networkx\\classes\\backends.py:148\u001B[0m, in \u001B[0;36m_dispatch.<locals>.wrapper\u001B[1;34m(*args, **kwds)\u001B[0m\n\u001B[0;32m    144\u001B[0m         \u001B[38;5;28;01melse\u001B[39;00m:\n\u001B[0;32m    145\u001B[0m             \u001B[38;5;28;01mraise\u001B[39;00m NetworkXNotImplemented(\n\u001B[0;32m    146\u001B[0m                 \u001B[38;5;124mf\u001B[39m\u001B[38;5;124m\"\u001B[39m\u001B[38;5;124m'\u001B[39m\u001B[38;5;132;01m{\u001B[39;00mname\u001B[38;5;132;01m}\u001B[39;00m\u001B[38;5;124m'\u001B[39m\u001B[38;5;124m not implemented by \u001B[39m\u001B[38;5;132;01m{\u001B[39;00mplugin_name\u001B[38;5;132;01m}\u001B[39;00m\u001B[38;5;124m\"\u001B[39m\n\u001B[0;32m    147\u001B[0m             )\n\u001B[1;32m--> 148\u001B[0m \u001B[38;5;28;01mreturn\u001B[39;00m func(\u001B[38;5;241m*\u001B[39margs, \u001B[38;5;241m*\u001B[39m\u001B[38;5;241m*\u001B[39mkwds)\n",
      "File \u001B[1;32m<class 'networkx.utils.decorators.argmap'> compilation 12:4\u001B[0m, in \u001B[0;36margmap_betweenness_centrality_9\u001B[1;34m(G, k, normalized, weight, endpoints, seed)\u001B[0m\n\u001B[0;32m      2\u001B[0m \u001B[38;5;28;01mimport\u001B[39;00m \u001B[38;5;21;01mcollections\u001B[39;00m\n\u001B[0;32m      3\u001B[0m \u001B[38;5;28;01mimport\u001B[39;00m \u001B[38;5;21;01mgzip\u001B[39;00m\n\u001B[1;32m----> 4\u001B[0m \u001B[38;5;28;01mimport\u001B[39;00m \u001B[38;5;21;01minspect\u001B[39;00m\n\u001B[0;32m      5\u001B[0m \u001B[38;5;28;01mimport\u001B[39;00m \u001B[38;5;21;01mitertools\u001B[39;00m\n\u001B[0;32m      6\u001B[0m \u001B[38;5;28;01mimport\u001B[39;00m \u001B[38;5;21;01mre\u001B[39;00m\n",
      "File \u001B[1;32m~\\PycharmProjects\\Webscience\\venv\\lib\\site-packages\\networkx\\algorithms\\centrality\\betweenness.py:131\u001B[0m, in \u001B[0;36mbetweenness_centrality\u001B[1;34m(G, k, normalized, weight, endpoints, seed)\u001B[0m\n\u001B[0;32m    128\u001B[0m \u001B[38;5;28;01mfor\u001B[39;00m s \u001B[38;5;129;01min\u001B[39;00m nodes:\n\u001B[0;32m    129\u001B[0m     \u001B[38;5;66;03m# single source shortest paths\u001B[39;00m\n\u001B[0;32m    130\u001B[0m     \u001B[38;5;28;01mif\u001B[39;00m weight \u001B[38;5;129;01mis\u001B[39;00m \u001B[38;5;28;01mNone\u001B[39;00m:  \u001B[38;5;66;03m# use BFS\u001B[39;00m\n\u001B[1;32m--> 131\u001B[0m         S, P, sigma, _ \u001B[38;5;241m=\u001B[39m \u001B[43m_single_source_shortest_path_basic\u001B[49m\u001B[43m(\u001B[49m\u001B[43mG\u001B[49m\u001B[43m,\u001B[49m\u001B[43m \u001B[49m\u001B[43ms\u001B[49m\u001B[43m)\u001B[49m\n\u001B[0;32m    132\u001B[0m     \u001B[38;5;28;01melse\u001B[39;00m:  \u001B[38;5;66;03m# use Dijkstra's algorithm\u001B[39;00m\n\u001B[0;32m    133\u001B[0m         S, P, sigma, _ \u001B[38;5;241m=\u001B[39m _single_source_dijkstra_path_basic(G, s, weight)\n",
      "File \u001B[1;32m~\\PycharmProjects\\Webscience\\venv\\lib\\site-packages\\networkx\\algorithms\\centrality\\betweenness.py:269\u001B[0m, in \u001B[0;36m_single_source_shortest_path_basic\u001B[1;34m(G, s)\u001B[0m\n\u001B[0;32m    267\u001B[0m     Q\u001B[38;5;241m.\u001B[39mappend(w)\n\u001B[0;32m    268\u001B[0m     D[w] \u001B[38;5;241m=\u001B[39m Dv \u001B[38;5;241m+\u001B[39m \u001B[38;5;241m1\u001B[39m\n\u001B[1;32m--> 269\u001B[0m \u001B[38;5;28;01mif\u001B[39;00m \u001B[43mD\u001B[49m\u001B[43m[\u001B[49m\u001B[43mw\u001B[49m\u001B[43m]\u001B[49m\u001B[43m \u001B[49m\u001B[38;5;241;43m==\u001B[39;49m\u001B[43m \u001B[49m\u001B[43mDv\u001B[49m\u001B[43m \u001B[49m\u001B[38;5;241;43m+\u001B[39;49m\u001B[43m \u001B[49m\u001B[38;5;241;43m1\u001B[39;49m:  \u001B[38;5;66;03m# this is a shortest path, count paths\u001B[39;00m\n\u001B[0;32m    270\u001B[0m     sigma[w] \u001B[38;5;241m+\u001B[39m\u001B[38;5;241m=\u001B[39m sigmav\n\u001B[0;32m    271\u001B[0m     P[w]\u001B[38;5;241m.\u001B[39mappend(v)  \u001B[38;5;66;03m# predecessors\u001B[39;00m\n",
      "\u001B[1;31mKeyboardInterrupt\u001B[0m: "
     ]
    }
   ],
   "source": [
    "# Calculate 80s betweenness centrality\n",
    "betweenness = nx.betweenness_centrality(G80s)\n",
    "\n",
    "# Add betweenness centrality as an attribute to nodes\n",
    "nx.set_node_attributes(G80s, betweenness, 'betweenness_centrality')"
   ],
   "metadata": {
    "collapsed": false,
    "ExecuteTime": {
     "end_time": "2023-06-21T23:23:48.448893800Z",
     "start_time": "2023-06-21T23:23:45.019446500Z"
    }
   }
  },
  {
   "cell_type": "code",
   "execution_count": 97,
   "outputs": [
    {
     "name": "stdout",
     "output_type": "stream",
     "text": [
      "Node nm0000636, attributes: {'category': 'writer', 'eigenvector_centrality': 0.0008252645182580747, 'betweenness_centrality': 0.06989936135578094, 'community': 4833}\n"
     ]
    }
   ],
   "source": [
    "# Get the top 80s node with the highest betweenness centrality\n",
    "sorted_nodes = sorted(G80s.nodes(data=True), key=lambda x: x[1]['betweenness_centrality'], reverse=True)\n",
    "for node, attributes in sorted_nodes[:1]:\n",
    "    print(f\"Node {node}, attributes: {attributes}\")"
   ],
   "metadata": {
    "collapsed": false,
    "ExecuteTime": {
     "end_time": "2023-06-21T23:38:19.169816700Z",
     "start_time": "2023-06-21T23:38:19.104821700Z"
    }
   }
  },
  {
   "cell_type": "markdown",
   "source": [
    "# Closeness Centrality"
   ],
   "metadata": {
    "collapsed": false
   }
  },
  {
   "cell_type": "code",
   "execution_count": 95,
   "outputs": [
    {
     "ename": "KeyboardInterrupt",
     "evalue": "",
     "output_type": "error",
     "traceback": [
      "\u001B[1;31m---------------------------------------------------------------------------\u001B[0m",
      "\u001B[1;31mKeyboardInterrupt\u001B[0m                         Traceback (most recent call last)",
      "Cell \u001B[1;32mIn[95], line 2\u001B[0m\n\u001B[0;32m      1\u001B[0m \u001B[38;5;66;03m# Calculate 70s closeness centrality\u001B[39;00m\n\u001B[1;32m----> 2\u001B[0m closeness \u001B[38;5;241m=\u001B[39m \u001B[43mnx\u001B[49m\u001B[38;5;241;43m.\u001B[39;49m\u001B[43mbetweenness_centrality\u001B[49m\u001B[43m(\u001B[49m\u001B[43mG70s\u001B[49m\u001B[43m)\u001B[49m\n\u001B[0;32m      4\u001B[0m \u001B[38;5;66;03m# Add closeness centrality as an attribute to nodes\u001B[39;00m\n\u001B[0;32m      5\u001B[0m nx\u001B[38;5;241m.\u001B[39mset_node_attributes(G70s, closeness, \u001B[38;5;124m'\u001B[39m\u001B[38;5;124mcloseness_centrality\u001B[39m\u001B[38;5;124m'\u001B[39m)\n",
      "File \u001B[1;32m~\\PycharmProjects\\Webscience\\venv\\lib\\site-packages\\networkx\\classes\\backends.py:148\u001B[0m, in \u001B[0;36m_dispatch.<locals>.wrapper\u001B[1;34m(*args, **kwds)\u001B[0m\n\u001B[0;32m    144\u001B[0m         \u001B[38;5;28;01melse\u001B[39;00m:\n\u001B[0;32m    145\u001B[0m             \u001B[38;5;28;01mraise\u001B[39;00m NetworkXNotImplemented(\n\u001B[0;32m    146\u001B[0m                 \u001B[38;5;124mf\u001B[39m\u001B[38;5;124m\"\u001B[39m\u001B[38;5;124m'\u001B[39m\u001B[38;5;132;01m{\u001B[39;00mname\u001B[38;5;132;01m}\u001B[39;00m\u001B[38;5;124m'\u001B[39m\u001B[38;5;124m not implemented by \u001B[39m\u001B[38;5;132;01m{\u001B[39;00mplugin_name\u001B[38;5;132;01m}\u001B[39;00m\u001B[38;5;124m\"\u001B[39m\n\u001B[0;32m    147\u001B[0m             )\n\u001B[1;32m--> 148\u001B[0m \u001B[38;5;28;01mreturn\u001B[39;00m func(\u001B[38;5;241m*\u001B[39margs, \u001B[38;5;241m*\u001B[39m\u001B[38;5;241m*\u001B[39mkwds)\n",
      "File \u001B[1;32m<class 'networkx.utils.decorators.argmap'> compilation 12:4\u001B[0m, in \u001B[0;36margmap_betweenness_centrality_9\u001B[1;34m(G, k, normalized, weight, endpoints, seed)\u001B[0m\n\u001B[0;32m      2\u001B[0m \u001B[38;5;28;01mimport\u001B[39;00m \u001B[38;5;21;01mcollections\u001B[39;00m\n\u001B[0;32m      3\u001B[0m \u001B[38;5;28;01mimport\u001B[39;00m \u001B[38;5;21;01mgzip\u001B[39;00m\n\u001B[1;32m----> 4\u001B[0m \u001B[38;5;28;01mimport\u001B[39;00m \u001B[38;5;21;01minspect\u001B[39;00m\n\u001B[0;32m      5\u001B[0m \u001B[38;5;28;01mimport\u001B[39;00m \u001B[38;5;21;01mitertools\u001B[39;00m\n\u001B[0;32m      6\u001B[0m \u001B[38;5;28;01mimport\u001B[39;00m \u001B[38;5;21;01mre\u001B[39;00m\n",
      "File \u001B[1;32m~\\PycharmProjects\\Webscience\\venv\\lib\\site-packages\\networkx\\algorithms\\centrality\\betweenness.py:131\u001B[0m, in \u001B[0;36mbetweenness_centrality\u001B[1;34m(G, k, normalized, weight, endpoints, seed)\u001B[0m\n\u001B[0;32m    128\u001B[0m \u001B[38;5;28;01mfor\u001B[39;00m s \u001B[38;5;129;01min\u001B[39;00m nodes:\n\u001B[0;32m    129\u001B[0m     \u001B[38;5;66;03m# single source shortest paths\u001B[39;00m\n\u001B[0;32m    130\u001B[0m     \u001B[38;5;28;01mif\u001B[39;00m weight \u001B[38;5;129;01mis\u001B[39;00m \u001B[38;5;28;01mNone\u001B[39;00m:  \u001B[38;5;66;03m# use BFS\u001B[39;00m\n\u001B[1;32m--> 131\u001B[0m         S, P, sigma, _ \u001B[38;5;241m=\u001B[39m \u001B[43m_single_source_shortest_path_basic\u001B[49m\u001B[43m(\u001B[49m\u001B[43mG\u001B[49m\u001B[43m,\u001B[49m\u001B[43m \u001B[49m\u001B[43ms\u001B[49m\u001B[43m)\u001B[49m\n\u001B[0;32m    132\u001B[0m     \u001B[38;5;28;01melse\u001B[39;00m:  \u001B[38;5;66;03m# use Dijkstra's algorithm\u001B[39;00m\n\u001B[0;32m    133\u001B[0m         S, P, sigma, _ \u001B[38;5;241m=\u001B[39m _single_source_dijkstra_path_basic(G, s, weight)\n",
      "File \u001B[1;32m~\\PycharmProjects\\Webscience\\venv\\lib\\site-packages\\networkx\\algorithms\\centrality\\betweenness.py:254\u001B[0m, in \u001B[0;36m_single_source_shortest_path_basic\u001B[1;34m(G, s)\u001B[0m\n\u001B[0;32m    252\u001B[0m P \u001B[38;5;241m=\u001B[39m {}\n\u001B[0;32m    253\u001B[0m \u001B[38;5;28;01mfor\u001B[39;00m v \u001B[38;5;129;01min\u001B[39;00m G:\n\u001B[1;32m--> 254\u001B[0m     P[v] \u001B[38;5;241m=\u001B[39m []\n\u001B[0;32m    255\u001B[0m sigma \u001B[38;5;241m=\u001B[39m \u001B[38;5;28mdict\u001B[39m\u001B[38;5;241m.\u001B[39mfromkeys(G, \u001B[38;5;241m0.0\u001B[39m)  \u001B[38;5;66;03m# sigma[v]=0 for v in G\u001B[39;00m\n\u001B[0;32m    256\u001B[0m D \u001B[38;5;241m=\u001B[39m {}\n",
      "\u001B[1;31mKeyboardInterrupt\u001B[0m: "
     ]
    }
   ],
   "source": [
    "# Calculate 70s closeness centrality\n",
    "closeness = nx.betweenness_centrality(G70s)\n",
    "\n",
    "# Add closeness centrality as an attribute to nodes\n",
    "nx.set_node_attributes(G70s, closeness, 'closeness_centrality')"
   ],
   "metadata": {
    "collapsed": false,
    "ExecuteTime": {
     "end_time": "2023-06-21T23:25:14.673597900Z",
     "start_time": "2023-06-21T23:24:03.733878200Z"
    }
   }
  },
  {
   "cell_type": "code",
   "execution_count": 99,
   "outputs": [
    {
     "name": "stdout",
     "output_type": "stream",
     "text": [
      "Node nm0006762, attributes: {'category': 'actor', 'eigenvector_centrality': 0.006662391537414313, 'betweenness_centrality': 0.09259497671090378, 'closeness_centrality': 0.09259497671090378, 'community': 3478}\n"
     ]
    }
   ],
   "source": [
    "# Get the top 70s node with the highest closeness centrality\n",
    "sorted_nodes = sorted(G70s.nodes(data=True), key=lambda x: x[1]['closeness_centrality'], reverse=True)\n",
    "for node, attributes in sorted_nodes[:1]:\n",
    "    print(f\"Node {node}, attributes: {attributes}\")"
   ],
   "metadata": {
    "collapsed": false,
    "ExecuteTime": {
     "end_time": "2023-06-21T23:42:35.093762Z",
     "start_time": "2023-06-21T23:42:34.928735200Z"
    }
   }
  },
  {
   "cell_type": "code",
   "execution_count": null,
   "outputs": [],
   "source": [
    "# Calculate 80s closeness centrality\n",
    "closeness = nx.betweenness_centrality(G80s)\n",
    "\n",
    "# Add closeness centrality as an attribute to nodes\n",
    "nx.set_node_attributes(G80s, closeness, 'closeness_centrality')"
   ],
   "metadata": {
    "collapsed": false
   }
  },
  {
   "cell_type": "code",
   "execution_count": 101,
   "outputs": [
    {
     "ename": "KeyError",
     "evalue": "'closeness_centrality'",
     "output_type": "error",
     "traceback": [
      "\u001B[1;31m---------------------------------------------------------------------------\u001B[0m",
      "\u001B[1;31mKeyError\u001B[0m                                  Traceback (most recent call last)",
      "Cell \u001B[1;32mIn[101], line 2\u001B[0m\n\u001B[0;32m      1\u001B[0m \u001B[38;5;66;03m# Get the top 80s node with the highest closeness centrality\u001B[39;00m\n\u001B[1;32m----> 2\u001B[0m sorted_nodes \u001B[38;5;241m=\u001B[39m \u001B[38;5;28;43msorted\u001B[39;49m\u001B[43m(\u001B[49m\u001B[43mG80s\u001B[49m\u001B[38;5;241;43m.\u001B[39;49m\u001B[43mnodes\u001B[49m\u001B[43m(\u001B[49m\u001B[43mdata\u001B[49m\u001B[38;5;241;43m=\u001B[39;49m\u001B[38;5;28;43;01mTrue\u001B[39;49;00m\u001B[43m)\u001B[49m\u001B[43m,\u001B[49m\u001B[43m \u001B[49m\u001B[43mkey\u001B[49m\u001B[38;5;241;43m=\u001B[39;49m\u001B[38;5;28;43;01mlambda\u001B[39;49;00m\u001B[43m \u001B[49m\u001B[43mx\u001B[49m\u001B[43m:\u001B[49m\u001B[43m \u001B[49m\u001B[43mx\u001B[49m\u001B[43m[\u001B[49m\u001B[38;5;241;43m1\u001B[39;49m\u001B[43m]\u001B[49m\u001B[43m[\u001B[49m\u001B[38;5;124;43m'\u001B[39;49m\u001B[38;5;124;43mcloseness_centrality\u001B[39;49m\u001B[38;5;124;43m'\u001B[39;49m\u001B[43m]\u001B[49m\u001B[43m,\u001B[49m\u001B[43m \u001B[49m\u001B[43mreverse\u001B[49m\u001B[38;5;241;43m=\u001B[39;49m\u001B[38;5;28;43;01mTrue\u001B[39;49;00m\u001B[43m)\u001B[49m\n\u001B[0;32m      3\u001B[0m \u001B[38;5;28;01mfor\u001B[39;00m node, attributes \u001B[38;5;129;01min\u001B[39;00m sorted_nodes[:\u001B[38;5;241m1\u001B[39m]:\n\u001B[0;32m      4\u001B[0m     \u001B[38;5;28mprint\u001B[39m(\u001B[38;5;124mf\u001B[39m\u001B[38;5;124m\"\u001B[39m\u001B[38;5;124mNode \u001B[39m\u001B[38;5;132;01m{\u001B[39;00mnode\u001B[38;5;132;01m}\u001B[39;00m\u001B[38;5;124m, attributes: \u001B[39m\u001B[38;5;132;01m{\u001B[39;00mattributes\u001B[38;5;132;01m}\u001B[39;00m\u001B[38;5;124m\"\u001B[39m)\n",
      "Cell \u001B[1;32mIn[101], line 2\u001B[0m, in \u001B[0;36m<lambda>\u001B[1;34m(x)\u001B[0m\n\u001B[0;32m      1\u001B[0m \u001B[38;5;66;03m# Get the top 80s node with the highest closeness centrality\u001B[39;00m\n\u001B[1;32m----> 2\u001B[0m sorted_nodes \u001B[38;5;241m=\u001B[39m \u001B[38;5;28msorted\u001B[39m(G80s\u001B[38;5;241m.\u001B[39mnodes(data\u001B[38;5;241m=\u001B[39m\u001B[38;5;28;01mTrue\u001B[39;00m), key\u001B[38;5;241m=\u001B[39m\u001B[38;5;28;01mlambda\u001B[39;00m x: \u001B[43mx\u001B[49m\u001B[43m[\u001B[49m\u001B[38;5;241;43m1\u001B[39;49m\u001B[43m]\u001B[49m\u001B[43m[\u001B[49m\u001B[38;5;124;43m'\u001B[39;49m\u001B[38;5;124;43mcloseness_centrality\u001B[39;49m\u001B[38;5;124;43m'\u001B[39;49m\u001B[43m]\u001B[49m, reverse\u001B[38;5;241m=\u001B[39m\u001B[38;5;28;01mTrue\u001B[39;00m)\n\u001B[0;32m      3\u001B[0m \u001B[38;5;28;01mfor\u001B[39;00m node, attributes \u001B[38;5;129;01min\u001B[39;00m sorted_nodes[:\u001B[38;5;241m1\u001B[39m]:\n\u001B[0;32m      4\u001B[0m     \u001B[38;5;28mprint\u001B[39m(\u001B[38;5;124mf\u001B[39m\u001B[38;5;124m\"\u001B[39m\u001B[38;5;124mNode \u001B[39m\u001B[38;5;132;01m{\u001B[39;00mnode\u001B[38;5;132;01m}\u001B[39;00m\u001B[38;5;124m, attributes: \u001B[39m\u001B[38;5;132;01m{\u001B[39;00mattributes\u001B[38;5;132;01m}\u001B[39;00m\u001B[38;5;124m\"\u001B[39m)\n",
      "\u001B[1;31mKeyError\u001B[0m: 'closeness_centrality'"
     ]
    }
   ],
   "source": [
    "# Get the top 80s node with the highest closeness centrality\n",
    "sorted_nodes = sorted(G80s.nodes(data=True), key=lambda x: x[1]['closeness_centrality'], reverse=True)\n",
    "for node, attributes in sorted_nodes[:1]:\n",
    "    print(f\"Node {node}, attributes: {attributes}\")"
   ],
   "metadata": {
    "collapsed": false,
    "ExecuteTime": {
     "end_time": "2023-06-21T23:42:49.478387500Z",
     "start_time": "2023-06-21T23:42:49.406425600Z"
    }
   }
  },
  {
   "cell_type": "markdown",
   "source": [
    "# Louvain Community Detection"
   ],
   "metadata": {
    "collapsed": false
   }
  },
  {
   "cell_type": "code",
   "execution_count": 102,
   "outputs": [
    {
     "ename": "KeyboardInterrupt",
     "evalue": "",
     "output_type": "error",
     "traceback": [
      "\u001B[1;31m---------------------------------------------------------------------------\u001B[0m",
      "\u001B[1;31mKeyboardInterrupt\u001B[0m                         Traceback (most recent call last)",
      "Cell \u001B[1;32mIn[102], line 6\u001B[0m\n\u001B[0;32m      4\u001B[0m \u001B[38;5;66;03m# Add community assignment as an attribute to each node\u001B[39;00m\n\u001B[0;32m      5\u001B[0m community_id \u001B[38;5;241m=\u001B[39m \u001B[38;5;241m0\u001B[39m\n\u001B[1;32m----> 6\u001B[0m \u001B[38;5;28;01mfor\u001B[39;00m partition \u001B[38;5;129;01min\u001B[39;00m partitions:\n\u001B[0;32m      7\u001B[0m     \u001B[38;5;28;01mfor\u001B[39;00m part \u001B[38;5;129;01min\u001B[39;00m partition:\n\u001B[0;32m      8\u001B[0m             \u001B[38;5;28;01mfor\u001B[39;00m node \u001B[38;5;129;01min\u001B[39;00m \u001B[38;5;28mlist\u001B[39m(part):\n",
      "File \u001B[1;32m~\\PycharmProjects\\Webscience\\venv\\lib\\site-packages\\networkx\\algorithms\\community\\louvain.py:190\u001B[0m, in \u001B[0;36mlouvain_partitions\u001B[1;34m(G, weight, resolution, threshold, seed)\u001B[0m\n\u001B[0;32m    188\u001B[0m mod \u001B[38;5;241m=\u001B[39m new_mod\n\u001B[0;32m    189\u001B[0m graph \u001B[38;5;241m=\u001B[39m _gen_graph(graph, inner_partition)\n\u001B[1;32m--> 190\u001B[0m partition, inner_partition, improvement \u001B[38;5;241m=\u001B[39m \u001B[43m_one_level\u001B[49m\u001B[43m(\u001B[49m\n\u001B[0;32m    191\u001B[0m \u001B[43m    \u001B[49m\u001B[43mgraph\u001B[49m\u001B[43m,\u001B[49m\u001B[43m \u001B[49m\u001B[43mm\u001B[49m\u001B[43m,\u001B[49m\u001B[43m \u001B[49m\u001B[43mpartition\u001B[49m\u001B[43m,\u001B[49m\u001B[43m \u001B[49m\u001B[43mresolution\u001B[49m\u001B[43m,\u001B[49m\u001B[43m \u001B[49m\u001B[43mis_directed\u001B[49m\u001B[43m,\u001B[49m\u001B[43m \u001B[49m\u001B[43mseed\u001B[49m\n\u001B[0;32m    192\u001B[0m \u001B[43m\u001B[49m\u001B[43m)\u001B[49m\n",
      "File \u001B[1;32m~\\PycharmProjects\\Webscience\\venv\\lib\\site-packages\\networkx\\algorithms\\community\\louvain.py:233\u001B[0m, in \u001B[0;36m_one_level\u001B[1;34m(G, m, partition, resolution, is_directed, seed)\u001B[0m\n\u001B[0;32m    231\u001B[0m     degrees \u001B[38;5;241m=\u001B[39m \u001B[38;5;28mdict\u001B[39m(G\u001B[38;5;241m.\u001B[39mdegree(weight\u001B[38;5;241m=\u001B[39m\u001B[38;5;124m\"\u001B[39m\u001B[38;5;124mweight\u001B[39m\u001B[38;5;124m\"\u001B[39m))\n\u001B[0;32m    232\u001B[0m     Stot \u001B[38;5;241m=\u001B[39m \u001B[38;5;28mlist\u001B[39m(degrees\u001B[38;5;241m.\u001B[39mvalues())\n\u001B[1;32m--> 233\u001B[0m     nbrs \u001B[38;5;241m=\u001B[39m {u: {v: data[\u001B[38;5;124m\"\u001B[39m\u001B[38;5;124mweight\u001B[39m\u001B[38;5;124m\"\u001B[39m] \u001B[38;5;28;01mfor\u001B[39;00m v, data \u001B[38;5;129;01min\u001B[39;00m G[u]\u001B[38;5;241m.\u001B[39mitems() \u001B[38;5;28;01mif\u001B[39;00m v \u001B[38;5;241m!=\u001B[39m u} \u001B[38;5;28;01mfor\u001B[39;00m u \u001B[38;5;129;01min\u001B[39;00m G}\n\u001B[0;32m    234\u001B[0m rand_nodes \u001B[38;5;241m=\u001B[39m \u001B[38;5;28mlist\u001B[39m(G\u001B[38;5;241m.\u001B[39mnodes)\n\u001B[0;32m    235\u001B[0m seed\u001B[38;5;241m.\u001B[39mshuffle(rand_nodes)\n",
      "File \u001B[1;32m~\\PycharmProjects\\Webscience\\venv\\lib\\site-packages\\networkx\\algorithms\\community\\louvain.py:233\u001B[0m, in \u001B[0;36m<dictcomp>\u001B[1;34m(.0)\u001B[0m\n\u001B[0;32m    231\u001B[0m     degrees \u001B[38;5;241m=\u001B[39m \u001B[38;5;28mdict\u001B[39m(G\u001B[38;5;241m.\u001B[39mdegree(weight\u001B[38;5;241m=\u001B[39m\u001B[38;5;124m\"\u001B[39m\u001B[38;5;124mweight\u001B[39m\u001B[38;5;124m\"\u001B[39m))\n\u001B[0;32m    232\u001B[0m     Stot \u001B[38;5;241m=\u001B[39m \u001B[38;5;28mlist\u001B[39m(degrees\u001B[38;5;241m.\u001B[39mvalues())\n\u001B[1;32m--> 233\u001B[0m     nbrs \u001B[38;5;241m=\u001B[39m {u: {v: data[\u001B[38;5;124m\"\u001B[39m\u001B[38;5;124mweight\u001B[39m\u001B[38;5;124m\"\u001B[39m] \u001B[38;5;28;01mfor\u001B[39;00m v, data \u001B[38;5;129;01min\u001B[39;00m G[u]\u001B[38;5;241m.\u001B[39mitems() \u001B[38;5;28;01mif\u001B[39;00m v \u001B[38;5;241m!=\u001B[39m u} \u001B[38;5;28;01mfor\u001B[39;00m u \u001B[38;5;129;01min\u001B[39;00m G}\n\u001B[0;32m    234\u001B[0m rand_nodes \u001B[38;5;241m=\u001B[39m \u001B[38;5;28mlist\u001B[39m(G\u001B[38;5;241m.\u001B[39mnodes)\n\u001B[0;32m    235\u001B[0m seed\u001B[38;5;241m.\u001B[39mshuffle(rand_nodes)\n",
      "File \u001B[1;32m~\\PycharmProjects\\Webscience\\venv\\lib\\site-packages\\networkx\\algorithms\\community\\louvain.py:233\u001B[0m, in \u001B[0;36m<dictcomp>\u001B[1;34m(.0)\u001B[0m\n\u001B[0;32m    231\u001B[0m     degrees \u001B[38;5;241m=\u001B[39m \u001B[38;5;28mdict\u001B[39m(G\u001B[38;5;241m.\u001B[39mdegree(weight\u001B[38;5;241m=\u001B[39m\u001B[38;5;124m\"\u001B[39m\u001B[38;5;124mweight\u001B[39m\u001B[38;5;124m\"\u001B[39m))\n\u001B[0;32m    232\u001B[0m     Stot \u001B[38;5;241m=\u001B[39m \u001B[38;5;28mlist\u001B[39m(degrees\u001B[38;5;241m.\u001B[39mvalues())\n\u001B[1;32m--> 233\u001B[0m     nbrs \u001B[38;5;241m=\u001B[39m {u: {v: data[\u001B[38;5;124m\"\u001B[39m\u001B[38;5;124mweight\u001B[39m\u001B[38;5;124m\"\u001B[39m] \u001B[38;5;28;01mfor\u001B[39;00m v, data \u001B[38;5;129;01min\u001B[39;00m G[u]\u001B[38;5;241m.\u001B[39mitems() \u001B[38;5;28;01mif\u001B[39;00m v \u001B[38;5;241m!=\u001B[39m u} \u001B[38;5;28;01mfor\u001B[39;00m u \u001B[38;5;129;01min\u001B[39;00m G}\n\u001B[0;32m    234\u001B[0m rand_nodes \u001B[38;5;241m=\u001B[39m \u001B[38;5;28mlist\u001B[39m(G\u001B[38;5;241m.\u001B[39mnodes)\n\u001B[0;32m    235\u001B[0m seed\u001B[38;5;241m.\u001B[39mshuffle(rand_nodes)\n",
      "File \u001B[1;32mC:\\Program Files\\WindowsApps\\PythonSoftwareFoundation.Python.3.10_3.10.3056.0_x64__qbz5n2kfra8p0\\lib\\_collections_abc.py:909\u001B[0m, in \u001B[0;36mItemsView.__iter__\u001B[1;34m(self)\u001B[0m\n\u001B[0;32m    906\u001B[0m     \u001B[38;5;28;01melse\u001B[39;00m:\n\u001B[0;32m    907\u001B[0m         \u001B[38;5;28;01mreturn\u001B[39;00m v \u001B[38;5;129;01mis\u001B[39;00m value \u001B[38;5;129;01mor\u001B[39;00m v \u001B[38;5;241m==\u001B[39m value\n\u001B[1;32m--> 909\u001B[0m \u001B[38;5;28;01mdef\u001B[39;00m \u001B[38;5;21m__iter__\u001B[39m(\u001B[38;5;28mself\u001B[39m):\n\u001B[0;32m    910\u001B[0m     \u001B[38;5;28;01mfor\u001B[39;00m key \u001B[38;5;129;01min\u001B[39;00m \u001B[38;5;28mself\u001B[39m\u001B[38;5;241m.\u001B[39m_mapping:\n\u001B[0;32m    911\u001B[0m         \u001B[38;5;28;01myield\u001B[39;00m (key, \u001B[38;5;28mself\u001B[39m\u001B[38;5;241m.\u001B[39m_mapping[key])\n",
      "\u001B[1;31mKeyboardInterrupt\u001B[0m: "
     ]
    }
   ],
   "source": [
    "# Perform Louvain Community Detection on 70s\n",
    "partitions = nx.community.louvain_partitions(G70s, resolution=0)\n",
    "\n",
    "# Add community assignment as an attribute to each node\n",
    "community_id = 0\n",
    "for partition in partitions:\n",
    "    for part in partition:\n",
    "            for node in list(part):\n",
    "                G70s.nodes[node]['community'] = community_id\n",
    "            community_id += 1"
   ],
   "metadata": {
    "collapsed": false,
    "ExecuteTime": {
     "end_time": "2023-06-21T23:43:00.392133700Z",
     "start_time": "2023-06-21T23:42:56.030193400Z"
    }
   }
  },
  {
   "cell_type": "code",
   "execution_count": 82,
   "outputs": [
    {
     "name": "stdout",
     "output_type": "stream",
     "text": [
      "Node nm0211132, attributes: {'category': 'editor', 'eigenvector_centrality': 2.0179539410779127e-28, 'betweenness_centrality': 0.0, 'closeness_centrality': 0.0, 'community': 3751}\n"
     ]
    }
   ],
   "source": [
    "# Get top 70s node with the highest community number\n",
    "sorted_nodes = sorted(G70s.nodes(data=True), key=lambda x: x[1]['community'], reverse=True)\n",
    "for node, attributes in sorted_nodes[:1]:\n",
    "    print(f\"Node {node}, attributes: {attributes}\")"
   ],
   "metadata": {
    "collapsed": false,
    "ExecuteTime": {
     "end_time": "2023-06-21T23:18:54.420894100Z",
     "start_time": "2023-06-21T23:18:54.210890Z"
    }
   }
  },
  {
   "cell_type": "code",
   "execution_count": 83,
   "outputs": [],
   "source": [
    "# Perform Louvain Community Detection on 80s\n",
    "partitions = nx.community.louvain_partitions(G80s, resolution=0)\n",
    "\n",
    "# Add community assignment as an attribute to each node\n",
    "community_id = 0\n",
    "for partition in partitions:\n",
    "    for part in partition:\n",
    "        for node in list(part):\n",
    "            G80s.nodes[node]['community'] = community_id\n",
    "        community_id += 1"
   ],
   "metadata": {
    "collapsed": false,
    "ExecuteTime": {
     "end_time": "2023-06-21T23:19:04.385660800Z",
     "start_time": "2023-06-21T23:18:58.980657Z"
    }
   }
  },
  {
   "cell_type": "code",
   "execution_count": 84,
   "outputs": [
    {
     "name": "stdout",
     "output_type": "stream",
     "text": [
      "Node nm1190140, attributes: {'category': 'writer', 'eigenvector_centrality': 1.0924588980201526e-34, 'betweenness_centrality': 0.0, 'community': 5219}\n"
     ]
    }
   ],
   "source": [
    "# Get top 80s node with the highest community number\n",
    "sorted_nodes = sorted(G80s.nodes(data=True), key=lambda x: x[1]['community'], reverse=True)\n",
    "for node, attributes in sorted_nodes[:1]:\n",
    "    print(f\"Node {node}, attributes: {attributes}\")"
   ],
   "metadata": {
    "collapsed": false,
    "ExecuteTime": {
     "end_time": "2023-06-21T23:19:06.886828100Z",
     "start_time": "2023-06-21T23:19:06.652795300Z"
    }
   }
  },
  {
   "cell_type": "markdown",
   "source": [
    "# Convert 70s and 80s graphs to json"
   ],
   "metadata": {
    "collapsed": false
   }
  },
  {
   "cell_type": "code",
   "execution_count": 26,
   "outputs": [],
   "source": [
    "from networkx.readwrite import json_graph\n",
    "import json"
   ],
   "metadata": {
    "collapsed": false,
    "ExecuteTime": {
     "end_time": "2023-06-21T22:10:58.212924700Z",
     "start_time": "2023-06-21T22:10:58.139925400Z"
    }
   }
  },
  {
   "cell_type": "code",
   "execution_count": 27,
   "outputs": [
    {
     "name": "stdout",
     "output_type": "stream",
     "text": [
      "Graph converted and saved as Data/Graphs/G70s.json\n"
     ]
    }
   ],
   "source": [
    "# Convert the 70s graph to a JSON-compatible data structure\n",
    "data = json_graph.node_link_data(G70s)\n",
    "\n",
    "# Save the data to a JSON file\n",
    "filename = \"Data/Graphs/G70s.json\"\n",
    "with open(filename, \"w\") as f:\n",
    "    json.dump(data, f, indent=4)\n",
    "\n",
    "print(\"Graph converted and saved as\", filename)"
   ],
   "metadata": {
    "collapsed": false,
    "ExecuteTime": {
     "end_time": "2023-06-21T22:11:01.759306700Z",
     "start_time": "2023-06-21T22:10:58.775146300Z"
    }
   }
  },
  {
   "cell_type": "code",
   "execution_count": 28,
   "outputs": [
    {
     "name": "stdout",
     "output_type": "stream",
     "text": [
      "Graph converted and saved as Data/Graphs/G80s.json\n"
     ]
    }
   ],
   "source": [
    "# Convert the 80s graph to a JSON-compatible data structure\n",
    "data = json_graph.node_link_data(G80s)\n",
    "\n",
    "# Save the data to a JSON file\n",
    "filename = \"Data/Graphs/G80s.json\"\n",
    "with open(filename, \"w\") as f:\n",
    "    json.dump(data, f, indent=4)\n",
    "\n",
    "print(\"Graph converted and saved as\", filename)"
   ],
   "metadata": {
    "collapsed": false,
    "ExecuteTime": {
     "end_time": "2023-06-21T22:11:04.255423300Z",
     "start_time": "2023-06-21T22:11:01.763309200Z"
    }
   }
  }
 ],
 "metadata": {
  "kernelspec": {
   "display_name": "Python 3",
   "language": "python",
   "name": "python3"
  },
  "language_info": {
   "codemirror_mode": {
    "name": "ipython",
    "version": 2
   },
   "file_extension": ".py",
   "mimetype": "text/x-python",
   "name": "python",
   "nbconvert_exporter": "python",
   "pygments_lexer": "ipython2",
   "version": "2.7.6"
  }
 },
 "nbformat": 4,
 "nbformat_minor": 0
}
