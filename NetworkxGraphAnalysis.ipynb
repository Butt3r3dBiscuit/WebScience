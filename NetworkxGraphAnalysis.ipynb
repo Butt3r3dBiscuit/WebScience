{
 "cells": [
  {
   "cell_type": "markdown",
   "source": [
    "# Graph Creation"
   ],
   "metadata": {
    "collapsed": false
   }
  },
  {
   "cell_type": "code",
   "execution_count": 18,
   "outputs": [],
   "source": [
    "import networkx as nx\n",
    "import pandas as pd"
   ],
   "metadata": {
    "collapsed": false,
    "ExecuteTime": {
     "end_time": "2023-06-26T10:50:45.343370700Z",
     "start_time": "2023-06-26T10:50:45.321332700Z"
    }
   }
  },
  {
   "cell_type": "code",
   "execution_count": 19,
   "outputs": [],
   "source": [
    "# General paths\n",
    "\n",
    "# 70s\n",
    "general70s_path = \"Data/EdgeData/1970s/General/70s.csv\"\n",
    "\n",
    "# 80s\n",
    "general80s_path = \"Data/EdgeData/1980s/General/80s.csv\"\n",
    "\n",
    "# categorical paths\n",
    "\n",
    "# 70s\n",
    "categorical70s_path = \"Data/EdgeData/1970s/Categorical\"\n",
    "\n",
    "# 80s\n",
    "categorical80s_path = \"Data/EdgeData/1980s/Categorical\""
   ],
   "metadata": {
    "collapsed": false,
    "ExecuteTime": {
     "end_time": "2023-06-26T10:50:45.979316400Z",
     "start_time": "2023-06-26T10:50:45.950334100Z"
    }
   }
  },
  {
   "cell_type": "code",
   "execution_count": 20,
   "outputs": [],
   "source": [
    "# A set of categories\n",
    "categories = ['writer', 'composer', 'editor', 'actor', 'self', 'archive_sound', 'producer', 'actress', 'production_designer', 'cinematographer', 'director', 'archive_footage']"
   ],
   "metadata": {
    "collapsed": false,
    "ExecuteTime": {
     "end_time": "2023-06-26T10:50:46.418339600Z",
     "start_time": "2023-06-26T10:50:46.389339300Z"
    }
   }
  },
  {
   "cell_type": "code",
   "execution_count": 40,
   "outputs": [],
   "source": [
    "# Nodes data initialisation\n",
    "nodedata70s = []\n",
    "nodedata80s = []"
   ],
   "metadata": {
    "collapsed": false,
    "ExecuteTime": {
     "end_time": "2023-06-26T10:58:47.256027700Z",
     "start_time": "2023-06-26T10:58:47.224654400Z"
    }
   }
  },
  {
   "cell_type": "code",
   "execution_count": 41,
   "outputs": [],
   "source": [
    "# add 70s nodes\n",
    "for category in categories:\n",
    "    category70s_path = categorical70s_path + \"/{}70s.csv\".format(category)\n",
    "\n",
    "    category70s = pd.read_csv(category70s_path, sep=',', low_memory=False)\n",
    "\n",
    "    nodes70s_set = set(category70s['Source'])\n",
    "    nodes70s_set = nodes70s_set.union(set(category70s['Target']))\n",
    "\n",
    "    nodedata70s.append(list(nodes70s_set))"
   ],
   "metadata": {
    "collapsed": false,
    "ExecuteTime": {
     "end_time": "2023-06-26T10:58:48.357393100Z",
     "start_time": "2023-06-26T10:58:48.199461400Z"
    }
   }
  },
  {
   "cell_type": "code",
   "execution_count": 42,
   "outputs": [],
   "source": [
    "# add 80s nodes\n",
    "for category in categories:\n",
    "    category80s_path = categorical80s_path + \"/{}80s.csv\".format(category)\n",
    "\n",
    "    category80s = pd.read_csv(category80s_path, sep=',', low_memory=False)\n",
    "\n",
    "    nodes80s_set = set(category80s['Source'])\n",
    "    nodes80s_set = nodes80s_set.union(set(category80s['Target']))\n",
    "\n",
    "    nodedata80s.append(list(nodes80s_set))"
   ],
   "metadata": {
    "collapsed": false,
    "ExecuteTime": {
     "end_time": "2023-06-26T10:58:49.990853900Z",
     "start_time": "2023-06-26T10:58:49.865854800Z"
    }
   }
  },
  {
   "cell_type": "code",
   "execution_count": 43,
   "outputs": [],
   "source": [
    "# Edge data initialisation\n",
    "edges70s = pd.read_csv(general70s_path, sep=',', low_memory=False)\n",
    "edges80s = pd.read_csv(general80s_path, sep=',', low_memory=False)"
   ],
   "metadata": {
    "collapsed": false,
    "ExecuteTime": {
     "end_time": "2023-06-26T10:58:52.462319900Z",
     "start_time": "2023-06-26T10:58:52.141289700Z"
    }
   }
  },
  {
   "cell_type": "code",
   "execution_count": 44,
   "outputs": [],
   "source": [
    "# Initialize graph\n",
    "G70s= nx.Graph()\n",
    "G80s= nx.Graph()"
   ],
   "metadata": {
    "collapsed": false,
    "ExecuteTime": {
     "end_time": "2023-06-26T10:58:53.651033Z",
     "start_time": "2023-06-26T10:58:53.595995200Z"
    }
   }
  },
  {
   "cell_type": "code",
   "execution_count": 45,
   "outputs": [
    {
     "name": "stdout",
     "output_type": "stream",
     "text": [
      "12\n",
      "12\n"
     ]
    }
   ],
   "source": [
    "# Add 70s nodes\n",
    "print(len(nodedata70s))\n",
    "print(len(categories))\n",
    "for i in range(len(nodedata70s)):\n",
    "    for node in nodedata70s[i]:\n",
    "        G70s.add_node(node, category=categories[i])"
   ],
   "metadata": {
    "collapsed": false,
    "ExecuteTime": {
     "end_time": "2023-06-26T10:58:55.210676100Z",
     "start_time": "2023-06-26T10:58:55.141338200Z"
    }
   }
  },
  {
   "cell_type": "code",
   "execution_count": 46,
   "outputs": [
    {
     "name": "stdout",
     "output_type": "stream",
     "text": [
      "12\n",
      "12\n"
     ]
    }
   ],
   "source": [
    "# Add 80s nodes\n",
    "print(len(nodedata80s))\n",
    "print(len(categories))\n",
    "for i in range(len(nodedata80s)):\n",
    "    for node in nodedata80s[i]:\n",
    "        G80s.add_node(node, category=categories[i])"
   ],
   "metadata": {
    "collapsed": false,
    "ExecuteTime": {
     "end_time": "2023-06-26T10:58:57.716339600Z",
     "start_time": "2023-06-26T10:58:57.676339200Z"
    }
   }
  },
  {
   "cell_type": "code",
   "execution_count": 47,
   "outputs": [],
   "source": [
    "# Add 70s edges\n",
    "G70s.add_edges_from(edges70s.values)"
   ],
   "metadata": {
    "collapsed": false,
    "ExecuteTime": {
     "end_time": "2023-06-26T10:59:13.650560500Z",
     "start_time": "2023-06-26T10:59:12.783525Z"
    }
   }
  },
  {
   "cell_type": "code",
   "execution_count": 48,
   "outputs": [],
   "source": [
    "# Add 80s edges\n",
    "G80s.add_edges_from(edges80s.values)"
   ],
   "metadata": {
    "collapsed": false,
    "ExecuteTime": {
     "end_time": "2023-06-26T10:59:15.588266400Z",
     "start_time": "2023-06-26T10:59:14.407249900Z"
    }
   }
  },
  {
   "cell_type": "code",
   "execution_count": 49,
   "outputs": [],
   "source": [
    "# Graph is undirected\n",
    "G70s = nx.to_undirected(G70s)\n",
    "G80s = nx.to_undirected(G80s)"
   ],
   "metadata": {
    "collapsed": false,
    "ExecuteTime": {
     "end_time": "2023-06-26T10:59:17.313892400Z",
     "start_time": "2023-06-26T10:59:17.281883100Z"
    }
   }
  },
  {
   "cell_type": "markdown",
   "source": [
    "# Analysis\n",
    "## Eigenvector Centrality"
   ],
   "metadata": {
    "collapsed": false
   }
  },
  {
   "cell_type": "code",
   "execution_count": 50,
   "outputs": [],
   "source": [
    "# Calculate 70s eigenvector centrality\n",
    "centrality_scores = nx.eigenvector_centrality(G70s)\n",
    "\n",
    "# Add eigenvector centrality as an attribute to nodes\n",
    "nx.set_node_attributes(G70s, centrality_scores, 'eigenvector_centrality')"
   ],
   "metadata": {
    "collapsed": false,
    "ExecuteTime": {
     "end_time": "2023-06-26T10:59:24.122039100Z",
     "start_time": "2023-06-26T10:59:21.487898800Z"
    }
   }
  },
  {
   "cell_type": "code",
   "execution_count": 51,
   "outputs": [],
   "source": [
    "# Print the eigenvector centrality attribute for each node\n",
    "for node, data in G70s.nodes(data=True):\n",
    "    eigenvector_centrality = data['eigenvector_centrality']"
   ],
   "metadata": {
    "collapsed": false,
    "ExecuteTime": {
     "end_time": "2023-06-26T10:59:25.634657800Z",
     "start_time": "2023-06-26T10:59:25.595657500Z"
    }
   }
  },
  {
   "cell_type": "code",
   "execution_count": 52,
   "outputs": [],
   "source": [
    "# Calculate 80s eigenvector centrality\n",
    "centrality_scores = nx.eigenvector_centrality(G80s)\n",
    "\n",
    "# Add eigenvector centrality as an attribute to nodes\n",
    "nx.set_node_attributes(G80s, centrality_scores, 'eigenvector_centrality')"
   ],
   "metadata": {
    "collapsed": false,
    "ExecuteTime": {
     "end_time": "2023-06-26T10:59:30.819641100Z",
     "start_time": "2023-06-26T10:59:26.634473400Z"
    }
   }
  },
  {
   "cell_type": "code",
   "execution_count": 53,
   "outputs": [],
   "source": [
    "# Print the eigenvector centrality attribute for each node\n",
    "for node, data in G80s.nodes(data=True):\n",
    "    eigenvector_centrality = data['eigenvector_centrality']"
   ],
   "metadata": {
    "collapsed": false,
    "ExecuteTime": {
     "end_time": "2023-06-26T10:59:33.189856600Z",
     "start_time": "2023-06-26T10:59:33.156848200Z"
    }
   }
  },
  {
   "cell_type": "code",
   "execution_count": 54,
   "outputs": [
    {
     "name": "stdout",
     "output_type": "stream",
     "text": [
      "Node nm0473742, attributes: {'category': 'composer', 'eigenvector_centrality': 0.1411734073765034}\n"
     ]
    }
   ],
   "source": [
    "# Get the top 70s node with the highest eigenvector centrality\n",
    "sorted_nodes = sorted(G70s.nodes(data=True), key=lambda x: x[1]['eigenvector_centrality'], reverse=True)\n",
    "for node, attributes in sorted_nodes[:1]:\n",
    "    print(f\"Node {node}, attributes: {attributes}\")"
   ],
   "metadata": {
    "collapsed": false,
    "ExecuteTime": {
     "end_time": "2023-06-26T10:59:34.713533Z",
     "start_time": "2023-06-26T10:59:34.667500400Z"
    }
   }
  },
  {
   "cell_type": "code",
   "execution_count": 55,
   "outputs": [
    {
     "name": "stdout",
     "output_type": "stream",
     "text": [
      "Node nm0007123, attributes: {'category': 'actor', 'eigenvector_centrality': 0.19065903679970608}\n"
     ]
    }
   ],
   "source": [
    "# Get the top 80s node with the highest eigenvector centrality\n",
    "sorted_nodes = sorted(G80s.nodes(data=True), key=lambda x: x[1]['eigenvector_centrality'], reverse=True)\n",
    "for node, attributes in sorted_nodes[:1]:\n",
    "    print(f\"Node {node}, attributes: {attributes}\")"
   ],
   "metadata": {
    "collapsed": false,
    "ExecuteTime": {
     "end_time": "2023-06-26T11:00:19.090174400Z",
     "start_time": "2023-06-26T11:00:18.934135300Z"
    }
   }
  },
  {
   "cell_type": "markdown",
   "source": [
    "# Betweeness Centrality"
   ],
   "metadata": {
    "collapsed": false
   }
  },
  {
   "cell_type": "code",
   "execution_count": null,
   "outputs": [],
   "source": [
    "# Calculate 70s betweenness centrality\n",
    "betweenness = nx.betweenness_centrality(G70s)\n",
    "\n",
    "# Add betweenness centrality as an attribute to nodes\n",
    "nx.set_node_attributes(G70s, betweenness, 'betweenness_centrality')"
   ],
   "metadata": {
    "collapsed": false,
    "is_executing": true,
    "ExecuteTime": {
     "start_time": "2023-06-26T11:02:44.560533700Z"
    }
   }
  },
  {
   "cell_type": "code",
   "execution_count": null,
   "outputs": [],
   "source": [
    "# Get the top 70s node with the highest betweenness centrality\n",
    "sorted_nodes = sorted(G70s.nodes(data=True), key=lambda x: x[1]['betweenness_centrality'], reverse=True)\n",
    "for node, attributes in sorted_nodes[:1]:\n",
    "    print(f\"Node {node}, attributes: {attributes}\")"
   ],
   "metadata": {
    "collapsed": false,
    "is_executing": true
   }
  },
  {
   "cell_type": "code",
   "execution_count": null,
   "outputs": [],
   "source": [
    "# Calculate 80s betweenness centrality\n",
    "betweenness = nx.betweenness_centrality(G80s)\n",
    "\n",
    "# Add betweenness centrality as an attribute to nodes\n",
    "nx.set_node_attributes(G80s, betweenness, 'betweenness_centrality')"
   ],
   "metadata": {
    "collapsed": false,
    "is_executing": true
   }
  },
  {
   "cell_type": "code",
   "execution_count": null,
   "outputs": [],
   "source": [
    "# Get the top 80s node with the highest betweenness centrality\n",
    "sorted_nodes = sorted(G80s.nodes(data=True), key=lambda x: x[1]['betweenness_centrality'], reverse=True)\n",
    "for node, attributes in sorted_nodes[:1]:\n",
    "    print(f\"Node {node}, attributes: {attributes}\")"
   ],
   "metadata": {
    "collapsed": false,
    "is_executing": true
   }
  },
  {
   "cell_type": "markdown",
   "source": [
    "# Closeness Centrality"
   ],
   "metadata": {
    "collapsed": false
   }
  },
  {
   "cell_type": "code",
   "execution_count": null,
   "outputs": [],
   "source": [
    "# Calculate 70s closeness centrality\n",
    "closeness = nx.betweenness_centrality(G70s)\n",
    "\n",
    "# Add closeness centrality as an attribute to nodes\n",
    "nx.set_node_attributes(G70s, closeness, 'closeness_centrality')"
   ],
   "metadata": {
    "collapsed": false,
    "is_executing": true
   }
  },
  {
   "cell_type": "code",
   "execution_count": null,
   "outputs": [],
   "source": [
    "# Get the top 70s node with the highest closeness centrality\n",
    "sorted_nodes = sorted(G70s.nodes(data=True), key=lambda x: x[1]['closeness_centrality'], reverse=True)\n",
    "for node, attributes in sorted_nodes[:1]:\n",
    "    print(f\"Node {node}, attributes: {attributes}\")"
   ],
   "metadata": {
    "collapsed": false,
    "is_executing": true
   }
  },
  {
   "cell_type": "code",
   "execution_count": null,
   "outputs": [],
   "source": [
    "# Calculate 80s closeness centrality\n",
    "closeness = nx.betweenness_centrality(G80s)\n",
    "\n",
    "# Add closeness centrality as an attribute to nodes\n",
    "nx.set_node_attributes(G80s, closeness, 'closeness_centrality')"
   ],
   "metadata": {
    "collapsed": false,
    "is_executing": true
   }
  },
  {
   "cell_type": "code",
   "execution_count": null,
   "outputs": [],
   "source": [
    "# Get the top 80s node with the highest closeness centrality\n",
    "sorted_nodes = sorted(G80s.nodes(data=True), key=lambda x: x[1]['closeness_centrality'], reverse=True)\n",
    "for node, attributes in sorted_nodes[:1]:\n",
    "    print(f\"Node {node}, attributes: {attributes}\")"
   ],
   "metadata": {
    "collapsed": false,
    "is_executing": true
   }
  },
  {
   "cell_type": "markdown",
   "source": [
    "# Louvain Community Detection"
   ],
   "metadata": {
    "collapsed": false
   }
  },
  {
   "cell_type": "code",
   "execution_count": 56,
   "outputs": [],
   "source": [
    "# Perform Louvain Community Detection on 70s\n",
    "partitions = nx.community.louvain_partitions(G70s, resolution=0)\n",
    "\n",
    "# Add community assignment as an attribute to each node\n",
    "community_id = 0\n",
    "for partition in partitions:\n",
    "    for part in partition:\n",
    "            for node in list(part):\n",
    "                G70s.nodes[node]['community'] = community_id\n",
    "            community_id += 1"
   ],
   "metadata": {
    "collapsed": false,
    "ExecuteTime": {
     "end_time": "2023-06-26T11:00:38.713546600Z",
     "start_time": "2023-06-26T11:00:33.431375800Z"
    }
   }
  },
  {
   "cell_type": "code",
   "execution_count": 57,
   "outputs": [
    {
     "name": "stdout",
     "output_type": "stream",
     "text": [
      "Node nm0016252, attributes: {'category': 'composer', 'eigenvector_centrality': 5.042802581544496e-15, 'community': 3427}\n"
     ]
    }
   ],
   "source": [
    "# Get top 70s node with the highest community number\n",
    "sorted_nodes = sorted(G70s.nodes(data=True), key=lambda x: x[1]['community'], reverse=True)\n",
    "for node, attributes in sorted_nodes[:1]:\n",
    "    print(f\"Node {node}, attributes: {attributes}\")"
   ],
   "metadata": {
    "collapsed": false,
    "ExecuteTime": {
     "end_time": "2023-06-26T11:00:40.693683200Z",
     "start_time": "2023-06-26T11:00:40.477689300Z"
    }
   }
  },
  {
   "cell_type": "code",
   "execution_count": 58,
   "outputs": [],
   "source": [
    "# Perform Louvain Community Detection on 80s\n",
    "partitions = nx.community.louvain_partitions(G80s, resolution=0)\n",
    "\n",
    "# Add community assignment as an attribute to each node\n",
    "community_id = 0\n",
    "for partition in partitions:\n",
    "    for part in partition:\n",
    "        for node in list(part):\n",
    "            G80s.nodes[node]['community'] = community_id\n",
    "        community_id += 1"
   ],
   "metadata": {
    "collapsed": false,
    "ExecuteTime": {
     "end_time": "2023-06-26T11:00:51.458140100Z",
     "start_time": "2023-06-26T11:00:45.701158500Z"
    }
   }
  },
  {
   "cell_type": "code",
   "execution_count": 59,
   "outputs": [
    {
     "name": "stdout",
     "output_type": "stream",
     "text": [
      "Node nm0304736, attributes: {'category': 'actor', 'eigenvector_centrality': 8.173589181698056e-31, 'community': 5333}\n"
     ]
    }
   ],
   "source": [
    "# Get top 80s node with the highest community number\n",
    "sorted_nodes = sorted(G80s.nodes(data=True), key=lambda x: x[1]['community'], reverse=True)\n",
    "for node, attributes in sorted_nodes[:1]:\n",
    "    print(f\"Node {node}, attributes: {attributes}\")"
   ],
   "metadata": {
    "collapsed": false,
    "ExecuteTime": {
     "end_time": "2023-06-26T11:00:52.803886300Z",
     "start_time": "2023-06-26T11:00:52.755875700Z"
    }
   }
  },
  {
   "cell_type": "markdown",
   "source": [
    "# Convert 70s and 80s graphs to json"
   ],
   "metadata": {
    "collapsed": false
   }
  },
  {
   "cell_type": "code",
   "execution_count": null,
   "outputs": [],
   "source": [
    "from networkx.readwrite import json_graph\n",
    "import json"
   ],
   "metadata": {
    "collapsed": false,
    "is_executing": true
   }
  },
  {
   "cell_type": "code",
   "execution_count": null,
   "outputs": [],
   "source": [
    "# Convert the 70s graph to a JSON-compatible data structure\n",
    "data = json_graph.node_link_data(G70s)\n",
    "\n",
    "# Save the data to a JSON file\n",
    "filename = \"Data/Graphs/G70s.json\"\n",
    "with open(filename, \"w\") as f:\n",
    "    json.dump(data, f, indent=4)\n",
    "\n",
    "print(\"Graph converted and saved as\", filename)"
   ],
   "metadata": {
    "collapsed": false,
    "is_executing": true
   }
  },
  {
   "cell_type": "code",
   "execution_count": null,
   "outputs": [],
   "source": [
    "# Convert the 80s graph to a JSON-compatible data structure\n",
    "data = json_graph.node_link_data(G80s)\n",
    "\n",
    "# Save the data to a JSON file\n",
    "filename = \"Data/Graphs/G80s.json\"\n",
    "with open(filename, \"w\") as f:\n",
    "    json.dump(data, f, indent=4)\n",
    "\n",
    "print(\"Graph converted and saved as\", filename)"
   ],
   "metadata": {
    "collapsed": false,
    "is_executing": true
   }
  },
  {
   "cell_type": "code",
   "execution_count": null,
   "outputs": [],
   "source": [],
   "metadata": {
    "collapsed": false
   }
  }
 ],
 "metadata": {
  "kernelspec": {
   "display_name": "Python 3",
   "language": "python",
   "name": "python3"
  },
  "language_info": {
   "codemirror_mode": {
    "name": "ipython",
    "version": 2
   },
   "file_extension": ".py",
   "mimetype": "text/x-python",
   "name": "python",
   "nbconvert_exporter": "python",
   "pygments_lexer": "ipython2",
   "version": "2.7.6"
  }
 },
 "nbformat": 4,
 "nbformat_minor": 0
}
