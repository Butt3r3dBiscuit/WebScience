{
 "cells": [
  {
   "cell_type": "markdown",
   "source": [
    "# Graph Creation"
   ],
   "metadata": {
    "collapsed": false
   }
  },
  {
   "cell_type": "code",
   "execution_count": 1,
   "outputs": [],
   "source": [
    "import networkx as nx\n",
    "import pandas as pd"
   ],
   "metadata": {
    "collapsed": false,
    "ExecuteTime": {
     "end_time": "2023-06-26T18:47:11.950039100Z",
     "start_time": "2023-06-26T18:47:10.717768900Z"
    }
   }
  },
  {
   "cell_type": "code",
   "execution_count": 2,
   "outputs": [],
   "source": [
    "# General paths\n",
    "\n",
    "# 70s\n",
    "general70s_path = \"Data/EdgeData/1970s/General/70s.csv\"\n",
    "\n",
    "# 80s\n",
    "general80s_path = \"Data/EdgeData/1980s/General/80s.csv\"\n",
    "\n",
    "# categorical paths\n",
    "\n",
    "# 70s\n",
    "categorical70s_path = \"Data/EdgeData/1970s/Categorical\"\n",
    "\n",
    "# 80s\n",
    "categorical80s_path = \"Data/EdgeData/1980s/Categorical\""
   ],
   "metadata": {
    "collapsed": false,
    "ExecuteTime": {
     "end_time": "2023-06-26T18:47:11.965038400Z",
     "start_time": "2023-06-26T18:47:11.951042200Z"
    }
   }
  },
  {
   "cell_type": "code",
   "execution_count": 3,
   "outputs": [],
   "source": [
    "# A set of categories\n",
    "categories = ['writer', 'composer', 'editor', 'actor', 'self', 'archive_sound', 'producer', 'actress', 'production_designer', 'cinematographer', 'director', 'archive_footage']"
   ],
   "metadata": {
    "collapsed": false,
    "ExecuteTime": {
     "end_time": "2023-06-26T18:47:11.995037300Z",
     "start_time": "2023-06-26T18:47:11.967044300Z"
    }
   }
  },
  {
   "cell_type": "code",
   "execution_count": 4,
   "outputs": [],
   "source": [
    "# Nodes data initialisation\n",
    "nodedata70s = []\n",
    "nodedata80s = []"
   ],
   "metadata": {
    "collapsed": false,
    "ExecuteTime": {
     "end_time": "2023-06-26T18:47:12.024039600Z",
     "start_time": "2023-06-26T18:47:11.984041700Z"
    }
   }
  },
  {
   "cell_type": "code",
   "execution_count": 5,
   "outputs": [],
   "source": [
    "# add 70s nodes\n",
    "for category in categories:\n",
    "    category70s_path = categorical70s_path + \"/{}70s.csv\".format(category)\n",
    "\n",
    "    category70s = pd.read_csv(category70s_path, sep=',', low_memory=False)\n",
    "\n",
    "    nodes70s_set = set(category70s['Source'])\n",
    "    nodes70s_set = nodes70s_set.union(set(category70s['Target']))\n",
    "\n",
    "    nodedata70s.append(list(nodes70s_set))"
   ],
   "metadata": {
    "collapsed": false,
    "ExecuteTime": {
     "end_time": "2023-06-26T18:47:12.140040600Z",
     "start_time": "2023-06-26T18:47:11.999039700Z"
    }
   }
  },
  {
   "cell_type": "code",
   "execution_count": 6,
   "outputs": [],
   "source": [
    "# add 80s nodes\n",
    "for category in categories:\n",
    "    category80s_path = categorical80s_path + \"/{}80s.csv\".format(category)\n",
    "\n",
    "    category80s = pd.read_csv(category80s_path, sep=',', low_memory=False)\n",
    "\n",
    "    nodes80s_set = set(category80s['Source'])\n",
    "    nodes80s_set = nodes80s_set.union(set(category80s['Target']))\n",
    "\n",
    "    nodedata80s.append(list(nodes80s_set))"
   ],
   "metadata": {
    "collapsed": false,
    "ExecuteTime": {
     "end_time": "2023-06-26T18:47:12.266039300Z",
     "start_time": "2023-06-26T18:47:12.140040600Z"
    }
   }
  },
  {
   "cell_type": "code",
   "execution_count": 7,
   "outputs": [],
   "source": [
    "# Edge data initialisation\n",
    "edges70s = pd.read_csv(general70s_path, sep=',', low_memory=False)\n",
    "edges80s = pd.read_csv(general80s_path, sep=',', low_memory=False)"
   ],
   "metadata": {
    "collapsed": false,
    "ExecuteTime": {
     "end_time": "2023-06-26T18:47:12.567039Z",
     "start_time": "2023-06-26T18:47:12.268046Z"
    }
   }
  },
  {
   "cell_type": "code",
   "execution_count": 8,
   "outputs": [],
   "source": [
    "# Initialize graph\n",
    "G70s= nx.Graph()\n",
    "G80s= nx.Graph()"
   ],
   "metadata": {
    "collapsed": false,
    "ExecuteTime": {
     "end_time": "2023-06-26T18:47:12.582037900Z",
     "start_time": "2023-06-26T18:47:12.568039800Z"
    }
   }
  },
  {
   "cell_type": "code",
   "execution_count": 9,
   "outputs": [],
   "source": [
    "# Add 70s nodes\n",
    "for i in range(len(nodedata70s)):\n",
    "    for node in nodedata70s[i]:\n",
    "        G70s.add_node(node, category=categories[i])"
   ],
   "metadata": {
    "collapsed": false,
    "ExecuteTime": {
     "end_time": "2023-06-26T18:47:12.661039100Z",
     "start_time": "2023-06-26T18:47:12.584044700Z"
    }
   }
  },
  {
   "cell_type": "code",
   "execution_count": 10,
   "outputs": [],
   "source": [
    "# Add 80s nodes\n",
    "for i in range(len(nodedata80s)):\n",
    "    for node in nodedata80s[i]:\n",
    "        G80s.add_node(node, category=categories[i])"
   ],
   "metadata": {
    "collapsed": false,
    "ExecuteTime": {
     "end_time": "2023-06-26T18:47:12.723040100Z",
     "start_time": "2023-06-26T18:47:12.663043200Z"
    }
   }
  },
  {
   "cell_type": "code",
   "execution_count": 11,
   "outputs": [],
   "source": [
    "# Add 70s edges\n",
    "G70s.add_edges_from(edges70s.values)"
   ],
   "metadata": {
    "collapsed": false,
    "ExecuteTime": {
     "end_time": "2023-06-26T18:47:13.311039100Z",
     "start_time": "2023-06-26T18:47:12.710045100Z"
    }
   }
  },
  {
   "cell_type": "code",
   "execution_count": 12,
   "outputs": [],
   "source": [
    "# Add 80s edges\n",
    "G80s.add_edges_from(edges80s.values)"
   ],
   "metadata": {
    "collapsed": false,
    "ExecuteTime": {
     "end_time": "2023-06-26T18:47:14.060039100Z",
     "start_time": "2023-06-26T18:47:13.313041100Z"
    }
   }
  },
  {
   "cell_type": "code",
   "execution_count": 13,
   "outputs": [],
   "source": [
    "# Graph is undirected\n",
    "G70s = nx.to_undirected(G70s)\n",
    "G80s = nx.to_undirected(G80s)"
   ],
   "metadata": {
    "collapsed": false,
    "ExecuteTime": {
     "end_time": "2023-06-26T18:47:14.076039Z",
     "start_time": "2023-06-26T18:47:14.062041900Z"
    }
   }
  },
  {
   "cell_type": "markdown",
   "source": [
    "# Analysis\n",
    "## Eigenvector Centrality"
   ],
   "metadata": {
    "collapsed": false
   }
  },
  {
   "cell_type": "code",
   "execution_count": 14,
   "outputs": [],
   "source": [
    "# Calculate 70s eigenvector centrality\n",
    "centrality_scores = nx.eigenvector_centrality(G70s)\n",
    "\n",
    "# Add eigenvector centrality as an attribute to nodes\n",
    "nx.set_node_attributes(G70s, centrality_scores, 'eigenvector_centrality')"
   ],
   "metadata": {
    "collapsed": false,
    "ExecuteTime": {
     "end_time": "2023-06-26T18:47:16.065039300Z",
     "start_time": "2023-06-26T18:47:14.080039500Z"
    }
   }
  },
  {
   "cell_type": "code",
   "execution_count": 15,
   "outputs": [],
   "source": [
    "# Print the eigenvector centrality attribute for each node\n",
    "for node, data in G70s.nodes(data=True):\n",
    "    eigenvector_centrality = data['eigenvector_centrality']"
   ],
   "metadata": {
    "collapsed": false,
    "ExecuteTime": {
     "end_time": "2023-06-26T18:47:16.081039900Z",
     "start_time": "2023-06-26T18:47:16.066040200Z"
    }
   }
  },
  {
   "cell_type": "code",
   "execution_count": 16,
   "outputs": [],
   "source": [
    "# Calculate 80s eigenvector centrality\n",
    "centrality_scores = nx.eigenvector_centrality(G80s)\n",
    "\n",
    "# Add eigenvector centrality as an attribute to nodes\n",
    "nx.set_node_attributes(G80s, centrality_scores, 'eigenvector_centrality')"
   ],
   "metadata": {
    "collapsed": false,
    "ExecuteTime": {
     "end_time": "2023-06-26T18:47:19.130039600Z",
     "start_time": "2023-06-26T18:47:16.083051300Z"
    }
   }
  },
  {
   "cell_type": "code",
   "execution_count": 17,
   "outputs": [],
   "source": [
    "# Print the eigenvector centrality attribute for each node\n",
    "for node, data in G80s.nodes(data=True):\n",
    "    eigenvector_centrality = data['eigenvector_centrality']"
   ],
   "metadata": {
    "collapsed": false,
    "ExecuteTime": {
     "end_time": "2023-06-26T18:47:19.146039300Z",
     "start_time": "2023-06-26T18:47:19.131039500Z"
    }
   }
  },
  {
   "cell_type": "code",
   "execution_count": 18,
   "outputs": [
    {
     "name": "stdout",
     "output_type": "stream",
     "text": [
      "Node nm0473742, attributes: {'category': 'composer', 'eigenvector_centrality': 0.14117340737650347}\n"
     ]
    }
   ],
   "source": [
    "# Get the top 70s node with the highest eigenvector centrality\n",
    "sorted_nodes = sorted(G70s.nodes(data=True), key=lambda x: x[1]['eigenvector_centrality'], reverse=True)\n",
    "for node, attributes in sorted_nodes[:1]:\n",
    "    print(f\"Node {node}, attributes: {attributes}\")"
   ],
   "metadata": {
    "collapsed": false,
    "ExecuteTime": {
     "end_time": "2023-06-26T18:47:19.264040800Z",
     "start_time": "2023-06-26T18:47:19.148053100Z"
    }
   }
  },
  {
   "cell_type": "code",
   "execution_count": 19,
   "outputs": [
    {
     "name": "stdout",
     "output_type": "stream",
     "text": [
      "Node nm0007123, attributes: {'category': 'actor', 'eigenvector_centrality': 0.19065903679970608}\n"
     ]
    }
   ],
   "source": [
    "# Get the top 80s node with the highest eigenvector centrality\n",
    "sorted_nodes = sorted(G80s.nodes(data=True), key=lambda x: x[1]['eigenvector_centrality'], reverse=True)\n",
    "for node, attributes in sorted_nodes[:1]:\n",
    "    print(f\"Node {node}, attributes: {attributes}\")"
   ],
   "metadata": {
    "collapsed": false,
    "ExecuteTime": {
     "end_time": "2023-06-26T18:47:19.383038300Z",
     "start_time": "2023-06-26T18:47:19.261040500Z"
    }
   }
  },
  {
   "cell_type": "markdown",
   "source": [
    "# Betweeness Centrality"
   ],
   "metadata": {
    "collapsed": false
   }
  },
  {
   "cell_type": "code",
   "execution_count": 20,
   "outputs": [],
   "source": [
    "# Calculate 70s betweenness centrality\n",
    "betweenness = nx.betweenness_centrality(G70s)\n",
    "\n",
    "# Add betweenness centrality as an attribute to nodes\n",
    "nx.set_node_attributes(G70s, betweenness, 'betweenness_centrality')"
   ],
   "metadata": {
    "collapsed": false,
    "ExecuteTime": {
     "end_time": "2023-06-26T19:34:51.363269800Z",
     "start_time": "2023-06-26T18:47:19.292041600Z"
    }
   }
  },
  {
   "cell_type": "code",
   "execution_count": 21,
   "outputs": [
    {
     "name": "stdout",
     "output_type": "stream",
     "text": [
      "Node nm0006762, attributes: {'category': 'actor', 'eigenvector_centrality': 0.006662391537414315, 'betweenness_centrality': 0.09259497671090365}\n"
     ]
    }
   ],
   "source": [
    "# Get the top 70s node with the highest betweenness centrality\n",
    "sorted_nodes = sorted(G70s.nodes(data=True), key=lambda x: x[1]['betweenness_centrality'], reverse=True)\n",
    "for node, attributes in sorted_nodes[:1]:\n",
    "    print(f\"Node {node}, attributes: {attributes}\")"
   ],
   "metadata": {
    "collapsed": false,
    "ExecuteTime": {
     "end_time": "2023-06-26T19:34:51.504246600Z",
     "start_time": "2023-06-26T19:34:51.364248500Z"
    }
   }
  },
  {
   "cell_type": "code",
   "execution_count": 22,
   "outputs": [],
   "source": [
    "# Calculate 80s betweenness centrality\n",
    "betweenness = nx.betweenness_centrality(G80s)\n",
    "\n",
    "# Add betweenness centrality as an attribute to nodes\n",
    "nx.set_node_attributes(G80s, betweenness, 'betweenness_centrality')"
   ],
   "metadata": {
    "collapsed": false,
    "ExecuteTime": {
     "end_time": "2023-06-26T20:43:40.262621200Z",
     "start_time": "2023-06-26T19:34:51.397249200Z"
    }
   }
  },
  {
   "cell_type": "code",
   "execution_count": 23,
   "outputs": [
    {
     "name": "stdout",
     "output_type": "stream",
     "text": [
      "Node nm0000636, attributes: {'category': 'writer', 'eigenvector_centrality': 0.0008252645182580752, 'betweenness_centrality': 0.06989936135578088}\n"
     ]
    }
   ],
   "source": [
    "# Get the top 80s node with the highest betweenness centrality\n",
    "sorted_nodes = sorted(G80s.nodes(data=True), key=lambda x: x[1]['betweenness_centrality'], reverse=True)\n",
    "for node, attributes in sorted_nodes[:1]:\n",
    "    print(f\"Node {node}, attributes: {attributes}\")"
   ],
   "metadata": {
    "collapsed": false,
    "ExecuteTime": {
     "end_time": "2023-06-26T20:43:40.340619300Z",
     "start_time": "2023-06-26T20:43:40.264625Z"
    }
   }
  },
  {
   "cell_type": "markdown",
   "source": [
    "# Closeness Centrality"
   ],
   "metadata": {
    "collapsed": false
   }
  },
  {
   "cell_type": "code",
   "execution_count": 24,
   "outputs": [],
   "source": [
    "# Calculate 70s closeness centrality\n",
    "closeness = nx.betweenness_centrality(G70s)\n",
    "\n",
    "# Add closeness centrality as an attribute to nodes\n",
    "nx.set_node_attributes(G70s, closeness, 'closeness_centrality')"
   ],
   "metadata": {
    "collapsed": false,
    "ExecuteTime": {
     "end_time": "2023-06-26T21:31:01.565741100Z",
     "start_time": "2023-06-26T20:43:40.296625600Z"
    }
   }
  },
  {
   "cell_type": "code",
   "execution_count": 25,
   "outputs": [
    {
     "name": "stdout",
     "output_type": "stream",
     "text": [
      "Node nm0006762, attributes: {'category': 'actor', 'eigenvector_centrality': 0.006662391537414315, 'betweenness_centrality': 0.09259497671090365, 'closeness_centrality': 0.09259497671090365}\n"
     ]
    }
   ],
   "source": [
    "# Get the top 70s node with the highest closeness centrality\n",
    "sorted_nodes = sorted(G70s.nodes(data=True), key=lambda x: x[1]['closeness_centrality'], reverse=True)\n",
    "for node, attributes in sorted_nodes[:1]:\n",
    "    print(f\"Node {node}, attributes: {attributes}\")"
   ],
   "metadata": {
    "collapsed": false,
    "ExecuteTime": {
     "end_time": "2023-06-26T21:31:01.643769600Z",
     "start_time": "2023-06-26T21:31:01.566734400Z"
    }
   }
  },
  {
   "cell_type": "code",
   "execution_count": 26,
   "outputs": [],
   "source": [
    "# Calculate 80s closeness centrality\n",
    "closeness = nx.betweenness_centrality(G80s)\n",
    "\n",
    "# Add closeness centrality as an attribute to nodes\n",
    "nx.set_node_attributes(G80s, closeness, 'closeness_centrality')"
   ],
   "metadata": {
    "collapsed": false,
    "ExecuteTime": {
     "end_time": "2023-06-26T22:40:29.793979100Z",
     "start_time": "2023-06-26T21:31:01.599731700Z"
    }
   }
  },
  {
   "cell_type": "code",
   "execution_count": 27,
   "outputs": [
    {
     "name": "stdout",
     "output_type": "stream",
     "text": [
      "Node nm0000636, attributes: {'category': 'writer', 'eigenvector_centrality': 0.0008252645182580752, 'betweenness_centrality': 0.06989936135578088, 'closeness_centrality': 0.06989936135578088}\n"
     ]
    }
   ],
   "source": [
    "# Get the top 80s node with the highest closeness centrality\n",
    "sorted_nodes = sorted(G80s.nodes(data=True), key=lambda x: x[1]['closeness_centrality'], reverse=True)\n",
    "for node, attributes in sorted_nodes[:1]:\n",
    "    print(f\"Node {node}, attributes: {attributes}\")"
   ],
   "metadata": {
    "collapsed": false,
    "ExecuteTime": {
     "end_time": "2023-06-26T22:40:29.903976600Z",
     "start_time": "2023-06-26T22:40:29.795988900Z"
    }
   }
  },
  {
   "cell_type": "markdown",
   "source": [
    "# Louvain Community Detection"
   ],
   "metadata": {
    "collapsed": false
   }
  },
  {
   "cell_type": "code",
   "execution_count": 28,
   "outputs": [],
   "source": [
    "# Perform Louvain Community Detection on 70s\n",
    "partitions = nx.community.louvain_partitions(G70s, resolution=1)\n",
    "\n",
    "# Add community assignment as an attribute to each node\n",
    "community_id = 0\n",
    "for partition in partitions:\n",
    "    for part in partition:\n",
    "            for node in list(part):\n",
    "                G70s.nodes[node]['community'] = community_id\n",
    "            community_id += 1"
   ],
   "metadata": {
    "collapsed": false,
    "ExecuteTime": {
     "end_time": "2023-06-26T22:40:34.506171100Z",
     "start_time": "2023-06-26T22:40:29.827980300Z"
    }
   }
  },
  {
   "cell_type": "code",
   "execution_count": 29,
   "outputs": [
    {
     "name": "stdout",
     "output_type": "stream",
     "text": [
      "Node nm4693192, attributes: {'category': 'editor', 'eigenvector_centrality': 5.5469095563289224e-17, 'betweenness_centrality': 0.0, 'closeness_centrality': 0.0, 'community': 4075}\n"
     ]
    }
   ],
   "source": [
    "# Get top 70s node with the highest community number\n",
    "sorted_nodes = sorted(G70s.nodes(data=True), key=lambda x: x[1]['community'], reverse=True)\n",
    "for node, attributes in sorted_nodes[:1]:\n",
    "    print(f\"Node {node}, attributes: {attributes}\")"
   ],
   "metadata": {
    "collapsed": false,
    "ExecuteTime": {
     "end_time": "2023-06-26T22:40:34.568194400Z",
     "start_time": "2023-06-26T22:40:34.509158600Z"
    }
   }
  },
  {
   "cell_type": "code",
   "execution_count": 30,
   "outputs": [],
   "source": [
    "# Perform Louvain Community Detection on 80s\n",
    "partitions = nx.community.louvain_partitions(G80s, resolution=1)\n",
    "\n",
    "# Add community assignment as an attribute to each node\n",
    "community_id = 0\n",
    "for partition in partitions:\n",
    "    for part in partition:\n",
    "        for node in list(part):\n",
    "            G80s.nodes[node]['community'] = community_id\n",
    "        community_id += 1"
   ],
   "metadata": {
    "collapsed": false,
    "ExecuteTime": {
     "end_time": "2023-06-26T22:40:39.496153400Z",
     "start_time": "2023-06-26T22:40:34.540156500Z"
    }
   }
  },
  {
   "cell_type": "code",
   "execution_count": 31,
   "outputs": [
    {
     "name": "stdout",
     "output_type": "stream",
     "text": [
      "Node nm7334208, attributes: {'category': 'composer', 'eigenvector_centrality': 1.0183617578008105e-22, 'betweenness_centrality': 0.0, 'closeness_centrality': 0.0, 'community': 5520}\n"
     ]
    }
   ],
   "source": [
    "# Get top 80s node with the highest community number\n",
    "sorted_nodes = sorted(G80s.nodes(data=True), key=lambda x: x[1]['community'], reverse=True)\n",
    "for node, attributes in sorted_nodes[:1]:\n",
    "    print(f\"Node {node}, attributes: {attributes}\")"
   ],
   "metadata": {
    "collapsed": false,
    "ExecuteTime": {
     "end_time": "2023-06-26T22:40:39.559189600Z",
     "start_time": "2023-06-26T22:40:39.499159200Z"
    }
   }
  },
  {
   "cell_type": "markdown",
   "source": [
    "# Convert 70s and 80s graphs to json"
   ],
   "metadata": {
    "collapsed": false
   }
  },
  {
   "cell_type": "code",
   "execution_count": 32,
   "outputs": [],
   "source": [
    "from networkx.readwrite import json_graph\n",
    "import json"
   ],
   "metadata": {
    "collapsed": false,
    "ExecuteTime": {
     "end_time": "2023-06-26T22:40:39.583154200Z",
     "start_time": "2023-06-26T22:40:39.531156900Z"
    }
   }
  },
  {
   "cell_type": "code",
   "execution_count": 33,
   "outputs": [
    {
     "name": "stdout",
     "output_type": "stream",
     "text": [
      "Graph converted and saved as Data/Graphs/G70s.json\n"
     ]
    }
   ],
   "source": [
    "# Convert the 70s graph to a JSON-compatible data structure\n",
    "data = json_graph.node_link_data(G70s)\n",
    "\n",
    "# Save the data to a JSON file\n",
    "filename = \"Data/Graphs/G70s.json\"\n",
    "with open(filename, \"w\") as f:\n",
    "    json.dump(data, f, indent=4)\n",
    "\n",
    "print(\"Graph converted and saved as\", filename)"
   ],
   "metadata": {
    "collapsed": false,
    "ExecuteTime": {
     "end_time": "2023-06-26T22:40:41.645156900Z",
     "start_time": "2023-06-26T22:40:39.548168800Z"
    }
   }
  },
  {
   "cell_type": "code",
   "execution_count": 34,
   "outputs": [
    {
     "name": "stdout",
     "output_type": "stream",
     "text": [
      "Graph converted and saved as Data/Graphs/G80s.json\n"
     ]
    }
   ],
   "source": [
    "# Convert the 80s graph to a JSON-compatible data structure\n",
    "data = json_graph.node_link_data(G80s)\n",
    "\n",
    "# Save the data to a JSON file\n",
    "filename = \"Data/Graphs/G80s.json\"\n",
    "with open(filename, \"w\") as f:\n",
    "    json.dump(data, f, indent=4)\n",
    "\n",
    "print(\"Graph converted and saved as\", filename)"
   ],
   "metadata": {
    "collapsed": false,
    "ExecuteTime": {
     "end_time": "2023-06-26T22:40:44.270166300Z",
     "start_time": "2023-06-26T22:40:41.647167800Z"
    }
   }
  }
 ],
 "metadata": {
  "kernelspec": {
   "display_name": "Python 3",
   "language": "python",
   "name": "python3"
  },
  "language_info": {
   "codemirror_mode": {
    "name": "ipython",
    "version": 2
   },
   "file_extension": ".py",
   "mimetype": "text/x-python",
   "name": "python",
   "nbconvert_exporter": "python",
   "pygments_lexer": "ipython2",
   "version": "2.7.6"
  }
 },
 "nbformat": 4,
 "nbformat_minor": 0
}
