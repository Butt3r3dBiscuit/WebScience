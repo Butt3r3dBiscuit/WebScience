{
 "cells": [
  {
   "cell_type": "markdown",
   "source": [
    "# Graph Creation"
   ],
   "metadata": {
    "collapsed": false
   }
  },
  {
   "cell_type": "code",
   "execution_count": 1,
   "outputs": [],
   "source": [
    "import networkx as nx\n",
    "import pandas as pd"
   ],
   "metadata": {
    "collapsed": false,
    "ExecuteTime": {
     "end_time": "2023-06-26T11:32:12.026781900Z",
     "start_time": "2023-06-26T11:32:10.800783600Z"
    }
   }
  },
  {
   "cell_type": "code",
   "execution_count": 2,
   "outputs": [],
   "source": [
    "# General paths\n",
    "\n",
    "# 70s\n",
    "general70s_path = \"Data/EdgeData/1970s/General/70s.csv\"\n",
    "\n",
    "# 80s\n",
    "general80s_path = \"Data/EdgeData/1980s/General/80s.csv\"\n",
    "\n",
    "# categorical paths\n",
    "\n",
    "# 70s\n",
    "categorical70s_path = \"Data/EdgeData/1970s/Categorical\"\n",
    "\n",
    "# 80s\n",
    "categorical80s_path = \"Data/EdgeData/1980s/Categorical\""
   ],
   "metadata": {
    "collapsed": false,
    "ExecuteTime": {
     "end_time": "2023-06-26T11:32:12.031784500Z",
     "start_time": "2023-06-26T11:32:12.015783200Z"
    }
   }
  },
  {
   "cell_type": "code",
   "execution_count": 3,
   "outputs": [],
   "source": [
    "# A set of categories\n",
    "categories = ['writer', 'composer', 'editor', 'actor', 'self', 'archive_sound', 'producer', 'actress', 'production_designer', 'cinematographer', 'director', 'archive_footage']"
   ],
   "metadata": {
    "collapsed": false,
    "ExecuteTime": {
     "end_time": "2023-06-26T11:32:12.056779200Z",
     "start_time": "2023-06-26T11:32:12.032784700Z"
    }
   }
  },
  {
   "cell_type": "code",
   "execution_count": 4,
   "outputs": [],
   "source": [
    "# Nodes data initialisation\n",
    "nodedata70s = []\n",
    "nodedata80s = []"
   ],
   "metadata": {
    "collapsed": false,
    "ExecuteTime": {
     "end_time": "2023-06-26T11:32:12.116782700Z",
     "start_time": "2023-06-26T11:32:12.045783700Z"
    }
   }
  },
  {
   "cell_type": "code",
   "execution_count": 5,
   "outputs": [],
   "source": [
    "# add 70s nodes\n",
    "for category in categories:\n",
    "    category70s_path = categorical70s_path + \"/{}70s.csv\".format(category)\n",
    "\n",
    "    category70s = pd.read_csv(category70s_path, sep=',', low_memory=False)\n",
    "\n",
    "    nodes70s_set = set(category70s['Source'])\n",
    "    nodes70s_set = nodes70s_set.union(set(category70s['Target']))\n",
    "\n",
    "    nodedata70s.append(list(nodes70s_set))"
   ],
   "metadata": {
    "collapsed": false,
    "ExecuteTime": {
     "end_time": "2023-06-26T11:32:12.223784700Z",
     "start_time": "2023-06-26T11:32:12.062783800Z"
    }
   }
  },
  {
   "cell_type": "code",
   "execution_count": 6,
   "outputs": [],
   "source": [
    "# add 80s nodes\n",
    "for category in categories:\n",
    "    category80s_path = categorical80s_path + \"/{}80s.csv\".format(category)\n",
    "\n",
    "    category80s = pd.read_csv(category80s_path, sep=',', low_memory=False)\n",
    "\n",
    "    nodes80s_set = set(category80s['Source'])\n",
    "    nodes80s_set = nodes80s_set.union(set(category80s['Target']))\n",
    "\n",
    "    nodedata80s.append(list(nodes80s_set))"
   ],
   "metadata": {
    "collapsed": false,
    "ExecuteTime": {
     "end_time": "2023-06-26T11:32:12.432783100Z",
     "start_time": "2023-06-26T11:32:12.203782200Z"
    }
   }
  },
  {
   "cell_type": "code",
   "execution_count": 7,
   "outputs": [],
   "source": [
    "# Edge data initialisation\n",
    "edges70s = pd.read_csv(general70s_path, sep=',', low_memory=False)\n",
    "edges80s = pd.read_csv(general80s_path, sep=',', low_memory=False)"
   ],
   "metadata": {
    "collapsed": false,
    "ExecuteTime": {
     "end_time": "2023-06-26T11:32:12.900782600Z",
     "start_time": "2023-06-26T11:32:12.371781500Z"
    }
   }
  },
  {
   "cell_type": "code",
   "execution_count": 8,
   "outputs": [],
   "source": [
    "# Initialize graph\n",
    "G70s= nx.Graph()\n",
    "G80s= nx.Graph()"
   ],
   "metadata": {
    "collapsed": false,
    "ExecuteTime": {
     "end_time": "2023-06-26T11:32:12.944784Z",
     "start_time": "2023-06-26T11:32:12.896782800Z"
    }
   }
  },
  {
   "cell_type": "code",
   "execution_count": 9,
   "outputs": [],
   "source": [
    "# Add 70s nodes\n",
    "for i in range(len(nodedata70s)):\n",
    "    for node in nodedata70s[i]:\n",
    "        G70s.add_node(node, category=categories[i])"
   ],
   "metadata": {
    "collapsed": false,
    "ExecuteTime": {
     "end_time": "2023-06-26T11:32:13.065781200Z",
     "start_time": "2023-06-26T11:32:12.915787500Z"
    }
   }
  },
  {
   "cell_type": "code",
   "execution_count": 10,
   "outputs": [],
   "source": [
    "# Add 80s nodes\n",
    "for i in range(len(nodedata80s)):\n",
    "    for node in nodedata80s[i]:\n",
    "        G80s.add_node(node, category=categories[i])"
   ],
   "metadata": {
    "collapsed": false,
    "ExecuteTime": {
     "end_time": "2023-06-26T11:32:13.084781500Z",
     "start_time": "2023-06-26T11:32:13.023783700Z"
    }
   }
  },
  {
   "cell_type": "code",
   "execution_count": 11,
   "outputs": [],
   "source": [
    "# Add 70s edges\n",
    "G70s.add_edges_from(edges70s.values)"
   ],
   "metadata": {
    "collapsed": false,
    "ExecuteTime": {
     "end_time": "2023-06-26T11:32:16.217783400Z",
     "start_time": "2023-06-26T11:32:14.873783200Z"
    }
   }
  },
  {
   "cell_type": "code",
   "execution_count": 12,
   "outputs": [],
   "source": [
    "# Add 80s edges\n",
    "G80s.add_edges_from(edges80s.values)"
   ],
   "metadata": {
    "collapsed": false,
    "ExecuteTime": {
     "end_time": "2023-06-26T11:32:17.818781500Z",
     "start_time": "2023-06-26T11:32:16.206783100Z"
    }
   }
  },
  {
   "cell_type": "code",
   "execution_count": 13,
   "outputs": [],
   "source": [
    "# Graph is undirected\n",
    "G70s = nx.to_undirected(G70s)\n",
    "G80s = nx.to_undirected(G80s)"
   ],
   "metadata": {
    "collapsed": false,
    "ExecuteTime": {
     "end_time": "2023-06-26T11:32:17.834780700Z",
     "start_time": "2023-06-26T11:32:17.820784Z"
    }
   }
  },
  {
   "cell_type": "markdown",
   "source": [
    "# Analysis\n",
    "## Eigenvector Centrality"
   ],
   "metadata": {
    "collapsed": false
   }
  },
  {
   "cell_type": "code",
   "execution_count": 14,
   "outputs": [],
   "source": [
    "# Calculate 70s eigenvector centrality\n",
    "centrality_scores = nx.eigenvector_centrality(G70s)\n",
    "\n",
    "# Add eigenvector centrality as an attribute to nodes\n",
    "nx.set_node_attributes(G70s, centrality_scores, 'eigenvector_centrality')"
   ],
   "metadata": {
    "collapsed": false,
    "ExecuteTime": {
     "end_time": "2023-06-26T11:32:25.718525600Z",
     "start_time": "2023-06-26T11:32:21.842113100Z"
    }
   }
  },
  {
   "cell_type": "code",
   "execution_count": 15,
   "outputs": [],
   "source": [
    "# Print the eigenvector centrality attribute for each node\n",
    "for node, data in G70s.nodes(data=True):\n",
    "    eigenvector_centrality = data['eigenvector_centrality']"
   ],
   "metadata": {
    "collapsed": false,
    "ExecuteTime": {
     "end_time": "2023-06-26T11:32:25.733526100Z",
     "start_time": "2023-06-26T11:32:25.716528200Z"
    }
   }
  },
  {
   "cell_type": "code",
   "execution_count": 16,
   "outputs": [],
   "source": [
    "# Calculate 80s eigenvector centrality\n",
    "centrality_scores = nx.eigenvector_centrality(G80s)\n",
    "\n",
    "# Add eigenvector centrality as an attribute to nodes\n",
    "nx.set_node_attributes(G80s, centrality_scores, 'eigenvector_centrality')"
   ],
   "metadata": {
    "collapsed": false,
    "ExecuteTime": {
     "end_time": "2023-06-26T11:32:31.556593Z",
     "start_time": "2023-06-26T11:32:25.730527Z"
    }
   }
  },
  {
   "cell_type": "code",
   "execution_count": 17,
   "outputs": [],
   "source": [
    "# Print the eigenvector centrality attribute for each node\n",
    "for node, data in G80s.nodes(data=True):\n",
    "    eigenvector_centrality = data['eigenvector_centrality']"
   ],
   "metadata": {
    "collapsed": false,
    "ExecuteTime": {
     "end_time": "2023-06-26T11:32:31.572454100Z",
     "start_time": "2023-06-26T11:32:31.559593900Z"
    }
   }
  },
  {
   "cell_type": "code",
   "execution_count": 18,
   "outputs": [
    {
     "name": "stdout",
     "output_type": "stream",
     "text": [
      "Node nm0473742, attributes: {'category': 'composer', 'eigenvector_centrality': 0.14117340737650347}\n"
     ]
    }
   ],
   "source": [
    "# Get the top 70s node with the highest eigenvector centrality\n",
    "sorted_nodes = sorted(G70s.nodes(data=True), key=lambda x: x[1]['eigenvector_centrality'], reverse=True)\n",
    "for node, attributes in sorted_nodes[:1]:\n",
    "    print(f\"Node {node}, attributes: {attributes}\")"
   ],
   "metadata": {
    "collapsed": false,
    "ExecuteTime": {
     "end_time": "2023-06-26T11:32:31.681426600Z",
     "start_time": "2023-06-26T11:32:31.574428900Z"
    }
   }
  },
  {
   "cell_type": "code",
   "execution_count": 19,
   "outputs": [
    {
     "name": "stdout",
     "output_type": "stream",
     "text": [
      "Node nm0007123, attributes: {'category': 'actor', 'eigenvector_centrality': 0.19065903679970606}\n"
     ]
    }
   ],
   "source": [
    "# Get the top 80s node with the highest eigenvector centrality\n",
    "sorted_nodes = sorted(G80s.nodes(data=True), key=lambda x: x[1]['eigenvector_centrality'], reverse=True)\n",
    "for node, attributes in sorted_nodes[:1]:\n",
    "    print(f\"Node {node}, attributes: {attributes}\")"
   ],
   "metadata": {
    "collapsed": false,
    "ExecuteTime": {
     "end_time": "2023-06-26T11:32:31.739816800Z",
     "start_time": "2023-06-26T11:32:31.682427700Z"
    }
   }
  },
  {
   "cell_type": "markdown",
   "source": [
    "# Betweeness Centrality"
   ],
   "metadata": {
    "collapsed": false
   }
  },
  {
   "cell_type": "code",
   "execution_count": null,
   "outputs": [],
   "source": [
    "# Calculate 70s betweenness centrality\n",
    "betweenness = nx.betweenness_centrality(G70s)\n",
    "\n",
    "# Add betweenness centrality as an attribute to nodes\n",
    "nx.set_node_attributes(G70s, betweenness, 'betweenness_centrality')"
   ],
   "metadata": {
    "collapsed": false,
    "is_executing": true
   }
  },
  {
   "cell_type": "code",
   "execution_count": null,
   "outputs": [],
   "source": [
    "# Get the top 70s node with the highest betweenness centrality\n",
    "sorted_nodes = sorted(G70s.nodes(data=True), key=lambda x: x[1]['betweenness_centrality'], reverse=True)\n",
    "for node, attributes in sorted_nodes[:1]:\n",
    "    print(f\"Node {node}, attributes: {attributes}\")"
   ],
   "metadata": {
    "collapsed": false,
    "is_executing": true
   }
  },
  {
   "cell_type": "code",
   "execution_count": null,
   "outputs": [],
   "source": [
    "# Calculate 80s betweenness centrality\n",
    "betweenness = nx.betweenness_centrality(G80s)\n",
    "\n",
    "# Add betweenness centrality as an attribute to nodes\n",
    "nx.set_node_attributes(G80s, betweenness, 'betweenness_centrality')"
   ],
   "metadata": {
    "collapsed": false,
    "is_executing": true
   }
  },
  {
   "cell_type": "code",
   "execution_count": null,
   "outputs": [],
   "source": [
    "# Get the top 80s node with the highest betweenness centrality\n",
    "sorted_nodes = sorted(G80s.nodes(data=True), key=lambda x: x[1]['betweenness_centrality'], reverse=True)\n",
    "for node, attributes in sorted_nodes[:1]:\n",
    "    print(f\"Node {node}, attributes: {attributes}\")"
   ],
   "metadata": {
    "collapsed": false,
    "is_executing": true
   }
  },
  {
   "cell_type": "markdown",
   "source": [
    "# Closeness Centrality"
   ],
   "metadata": {
    "collapsed": false
   }
  },
  {
   "cell_type": "code",
   "execution_count": null,
   "outputs": [],
   "source": [
    "# Calculate 70s closeness centrality\n",
    "closeness = nx.betweenness_centrality(G70s)\n",
    "\n",
    "# Add closeness centrality as an attribute to nodes\n",
    "nx.set_node_attributes(G70s, closeness, 'closeness_centrality')"
   ],
   "metadata": {
    "collapsed": false,
    "is_executing": true
   }
  },
  {
   "cell_type": "code",
   "execution_count": null,
   "outputs": [],
   "source": [
    "# Get the top 70s node with the highest closeness centrality\n",
    "sorted_nodes = sorted(G70s.nodes(data=True), key=lambda x: x[1]['closeness_centrality'], reverse=True)\n",
    "for node, attributes in sorted_nodes[:1]:\n",
    "    print(f\"Node {node}, attributes: {attributes}\")"
   ],
   "metadata": {
    "collapsed": false,
    "is_executing": true
   }
  },
  {
   "cell_type": "code",
   "execution_count": null,
   "outputs": [],
   "source": [
    "# Calculate 80s closeness centrality\n",
    "closeness = nx.betweenness_centrality(G80s)\n",
    "\n",
    "# Add closeness centrality as an attribute to nodes\n",
    "nx.set_node_attributes(G80s, closeness, 'closeness_centrality')"
   ],
   "metadata": {
    "collapsed": false,
    "is_executing": true
   }
  },
  {
   "cell_type": "code",
   "execution_count": null,
   "outputs": [],
   "source": [
    "# Get the top 80s node with the highest closeness centrality\n",
    "sorted_nodes = sorted(G80s.nodes(data=True), key=lambda x: x[1]['closeness_centrality'], reverse=True)\n",
    "for node, attributes in sorted_nodes[:1]:\n",
    "    print(f\"Node {node}, attributes: {attributes}\")"
   ],
   "metadata": {
    "collapsed": false,
    "is_executing": true
   }
  },
  {
   "cell_type": "markdown",
   "source": [
    "# Louvain Community Detection"
   ],
   "metadata": {
    "collapsed": false
   }
  },
  {
   "cell_type": "code",
   "execution_count": 20,
   "outputs": [],
   "source": [
    "# Perform Louvain Community Detection on 70s\n",
    "partitions = nx.community.louvain_partitions(G70s, resolution=1)\n",
    "\n",
    "# Add community assignment as an attribute to each node\n",
    "community_id = 0\n",
    "for partition in partitions:\n",
    "    for part in partition:\n",
    "            for node in list(part):\n",
    "                G70s.nodes[node]['community'] = community_id\n",
    "            community_id += 1"
   ],
   "metadata": {
    "collapsed": false,
    "ExecuteTime": {
     "end_time": "2023-06-26T11:32:43.576897700Z",
     "start_time": "2023-06-26T11:32:34.817118Z"
    }
   }
  },
  {
   "cell_type": "code",
   "execution_count": 21,
   "outputs": [
    {
     "name": "stdout",
     "output_type": "stream",
     "text": [
      "Node nm1039350, attributes: {'category': 'producer', 'eigenvector_centrality': 4.473476615706719e-25, 'community': 4070}\n"
     ]
    }
   ],
   "source": [
    "# Get top 70s node with the highest community number\n",
    "sorted_nodes = sorted(G70s.nodes(data=True), key=lambda x: x[1]['community'], reverse=True)\n",
    "for node, attributes in sorted_nodes[:1]:\n",
    "    print(f\"Node {node}, attributes: {attributes}\")"
   ],
   "metadata": {
    "collapsed": false,
    "ExecuteTime": {
     "end_time": "2023-06-26T11:32:43.609901900Z",
     "start_time": "2023-06-26T11:32:43.550894300Z"
    }
   }
  },
  {
   "cell_type": "code",
   "execution_count": 22,
   "outputs": [],
   "source": [
    "# Perform Louvain Community Detection on 80s\n",
    "partitions = nx.community.louvain_partitions(G80s, resolution=1)\n",
    "\n",
    "# Add community assignment as an attribute to each node\n",
    "community_id = 0\n",
    "for partition in partitions:\n",
    "    for part in partition:\n",
    "        for node in list(part):\n",
    "            G80s.nodes[node]['community'] = community_id\n",
    "        community_id += 1"
   ],
   "metadata": {
    "collapsed": false,
    "ExecuteTime": {
     "end_time": "2023-06-26T11:32:49.806123300Z",
     "start_time": "2023-06-26T11:32:43.591930500Z"
    }
   }
  },
  {
   "cell_type": "code",
   "execution_count": 23,
   "outputs": [
    {
     "name": "stdout",
     "output_type": "stream",
     "text": [
      "Node nm5527332, attributes: {'category': 'cinematographer', 'eigenvector_centrality': 1.0924588980201532e-34, 'community': 5668}\n"
     ]
    }
   ],
   "source": [
    "# Get top 80s node with the highest community number\n",
    "sorted_nodes = sorted(G80s.nodes(data=True), key=lambda x: x[1]['community'], reverse=True)\n",
    "for node, attributes in sorted_nodes[:1]:\n",
    "    print(f\"Node {node}, attributes: {attributes}\")"
   ],
   "metadata": {
    "collapsed": false,
    "ExecuteTime": {
     "end_time": "2023-06-26T11:32:49.882166400Z",
     "start_time": "2023-06-26T11:32:49.809125100Z"
    }
   }
  },
  {
   "cell_type": "markdown",
   "source": [
    "# Convert 70s and 80s graphs to json"
   ],
   "metadata": {
    "collapsed": false
   }
  },
  {
   "cell_type": "code",
   "execution_count": null,
   "outputs": [],
   "source": [
    "from networkx.readwrite import json_graph\n",
    "import json"
   ],
   "metadata": {
    "collapsed": false
   }
  },
  {
   "cell_type": "code",
   "execution_count": null,
   "outputs": [],
   "source": [
    "# Convert the 70s graph to a JSON-compatible data structure\n",
    "data = json_graph.node_link_data(G70s)\n",
    "\n",
    "# Save the data to a JSON file\n",
    "filename = \"Data/Graphs/G70s.json\"\n",
    "with open(filename, \"w\") as f:\n",
    "    json.dump(data, f, indent=4)\n",
    "\n",
    "print(\"Graph converted and saved as\", filename)"
   ],
   "metadata": {
    "collapsed": false
   }
  },
  {
   "cell_type": "code",
   "execution_count": null,
   "outputs": [],
   "source": [
    "# Convert the 80s graph to a JSON-compatible data structure\n",
    "data = json_graph.node_link_data(G80s)\n",
    "\n",
    "# Save the data to a JSON file\n",
    "filename = \"Data/Graphs/G80s.json\"\n",
    "with open(filename, \"w\") as f:\n",
    "    json.dump(data, f, indent=4)\n",
    "\n",
    "print(\"Graph converted and saved as\", filename)"
   ],
   "metadata": {
    "collapsed": false
   }
  }
 ],
 "metadata": {
  "kernelspec": {
   "display_name": "Python 3",
   "language": "python",
   "name": "python3"
  },
  "language_info": {
   "codemirror_mode": {
    "name": "ipython",
    "version": 2
   },
   "file_extension": ".py",
   "mimetype": "text/x-python",
   "name": "python",
   "nbconvert_exporter": "python",
   "pygments_lexer": "ipython2",
   "version": "2.7.6"
  }
 },
 "nbformat": 4,
 "nbformat_minor": 0
}
